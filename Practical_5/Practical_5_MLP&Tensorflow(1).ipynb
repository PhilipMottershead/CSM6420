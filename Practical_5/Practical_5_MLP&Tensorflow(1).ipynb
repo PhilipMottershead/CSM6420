{
  "nbformat": 4,
  "nbformat_minor": 0,
  "metadata": {
    "kernelspec": {
      "name": "python3",
      "display_name": "Python 3.8.6 64-bit",
      "metadata": {
        "interpreter": {
          "hash": "916dbcbb3f70747c44a77c7bcd40155683ae19c65e1c03b4aa3499c5328201f1"
        }
      }
    },
    "language_info": {
      "codemirror_mode": {
        "name": "ipython",
        "version": 3
      },
      "file_extension": ".py",
      "mimetype": "text/x-python",
      "name": "python",
      "nbconvert_exporter": "python",
      "pygments_lexer": "ipython3",
      "version": "3.8.6-final"
    },
    "colab": {
      "name": "Practical 5 MLP&Tensorflow",
      "provenance": [],
      "collapsed_sections": []
    }
  },
  "cells": [
    {
      "cell_type": "markdown",
      "metadata": {
        "id": "pC_My_TCs0Lz"
      },
      "source": [
        "# A first look at artificial neural networks\n",
        "\n",
        "## Artificial Neural Networks\n",
        "\n",
        "Artificial Neural Networks (ANNs) are computational processing systems that are heavily inspired by the way biological nervous systems function. The basic structure of an ANN can be visually conceptualised like:\n",
        "\n",
        "<a title=\"Glosser.ca, CC BY-SA 3.0 &lt;https://creativecommons.org/licenses/by-sa/3.0&gt;, via Wikimedia Commons\" href=\"https://commons.wikimedia.org/wiki/File:Colored_neural_network.svg\"><img width=\"256\" alt=\"Colored neural network\" src=\"https://upload.wikimedia.org/wikipedia/commons/thumb/4/46/Colored_neural_network.svg/256px-Colored_neural_network.svg.png\"></a>\n",
        "\n",
        "**Figure 1:** A simple three layered fully connected feedforward neural network (FNN), aka Multi-layer perceptrons (MLPs),comprisedof a input layer, a hidden layer and an output layer.\n",
        "\n"
      ]
    },
    {
      "cell_type": "markdown",
      "metadata": {
        "id": "CDUDJbess0L8"
      },
      "source": [
        "\n",
        "### Neural network modelling frameworks\n",
        "\n",
        "##### Tensorflow and Keras \n",
        "Keras is a powerful and easy-to-use Python library for developing and evaluating deep learning models. It provides a highlevel neural networks API for running on top of TensorFlow, CNTK, or Theano. It was developed with a focus on enabling fast experimentation. Being able to go from idea to result with the least possible delay is key to doing good research.\n",
        "\n",
        "In this worksheet, you will learn how to create a neural network using Keras and with the underlying low level deep learning framework of Tensorflow. \n",
        "\n",
        "Neural network models are trained by gradient descent. As we perform computations, Tensorflow memorises the computation graph that we build up. When it comes to compute the gradient, tensorflow can trace back over the computation graph (using the backpropagation algorithm) and work out all the required gradients. When we build models with Keras, we don't usually have to worry about low level computation just like with Scikit-learn."
      ]
    },
    {
      "cell_type": "markdown",
      "metadata": {
        "id": "sjhFVOzTs0L9"
      },
      "source": [
        "### Tensorflow 1.x vs. Tensorflow 2\n",
        "Compared with Tensorflow 1.x, Tensorflow 2 (introduced in 2019) starts to promote the use of two APIs: Keras for model building/training and Estimators for scaled serving. \n",
        "In Tensorflow 2, eager execution is implemnted by default, i.e. you don't need to create a session in order to run the computational graph (i.e. much easier to debug without sacrifysing flexibility and performance). \n",
        "\n",
        "To switch to Tensorflow 2 should be straghtforward if Keras is used, simply import Keras in possibly a different way. \n",
        "e.g. import tf.keras as Keras (in Tensorflow 2, or Tensorflow 1.10 or above)\n",
        "\n",
        "Colab has got Tensorflow installed already. In case you use Anaconda or miniconda and haven't got installed Tensorflow yet, you can do it following the instruction here:\n",
        "https://docs.anaconda.com/anaconda/user-guide/tasks/tensorflow/\n",
        "\n",
        "If you are not sure if you have got a suitable GPU, you can start with installing Tensorflow for CPU only.\n",
        "\n",
        "If you have trouble installing Tensorflow in your computer, or your computer does not have sufficient computational power, it would be easier to switch to Colab, or Kaggle kernel, or use some virtual machine in the cloud, where better computational resources (for RAM, CPU, GPU) are available. \n",
        "\n",
        "To get started, import tf.keras or keras as part of your TensorFlow program setup:"
      ]
    },
    {
      "cell_type": "code",
      "metadata": {
        "id": "J4B06ZDAs0L9",
        "colab": {
          "base_uri": "https://localhost:8080/",
          "height": 35
        },
        "outputId": "f8ede861-1acb-4ddf-82d7-aa7fe8812c61"
      },
      "source": [
        "# Import tensorflow, check version\n",
        "import tensorflow as tf\n",
        "import tensorflow.keras as keras # or import keras \n",
        "tf.__version__"
      ],
      "execution_count": 1,
      "outputs": [
        {
          "output_type": "execute_result",
          "data": {
            "text/plain": [
              "'2.4.1'"
            ]
          },
          "metadata": {},
          "execution_count": 1
        }
      ]
    },
    {
      "cell_type": "markdown",
      "metadata": {
        "id": "t27Ccl11IyIU"
      },
      "source": [
        "### Tensor\n",
        "In general, all current machine-learning systems use tensors as their basic data structure — usually for numerical data. \n",
        "\n",
        "Tensors are a generalization of matrices to an arbitrary number of dimensions (note that a dimension is often called an axis in a tensor). NumPy arrays can be called tensors.\n",
        "\n",
        "* Scalar (rank-0 tensor).\n",
        "* Vectors (rank-1 tensor).\n",
        "* Matrices: rank-2 tensors.\n",
        "* Rank-3 tensors and higher-rank tensors (e.g. array x below are Rank-3 tensors)"
      ]
    },
    {
      "cell_type": "code",
      "metadata": {
        "colab": {
          "base_uri": "https://localhost:8080/"
        },
        "id": "uMuSjBg2LO7m",
        "outputId": "17c8b38e-19fd-4483-96ec-fa9e8f10ed57"
      },
      "source": [
        "import numpy as np\n",
        "x = np.array([[[5, 78, 2, 34, 0],\n",
        "                   [6, 79, 3, 35, 1],\n",
        "                   [7, 80, 4, 36, 2]],\n",
        "                  [[5, 78, 2, 34, 0],\n",
        "                   [6, 79, 3, 35, 1],\n",
        "                   [7, 80, 4, 36, 2]],\n",
        "                  [[5, 78, 2, 34, 0],\n",
        "                   [6, 79, 3, 35, 1],\n",
        "                   [7, 80, 4, 36, 2]]])\n",
        "print(x.ndim)\n",
        "print(x.shape)"
      ],
      "execution_count": 2,
      "outputs": [
        {
          "output_type": "stream",
          "name": "stdout",
          "text": [
            "3\n(3, 3, 5)\n"
          ]
        }
      ]
    },
    {
      "cell_type": "markdown",
      "metadata": {
        "id": "90Jl1oeVs0L-"
      },
      "source": [
        "## MNIST"
      ]
    },
    {
      "cell_type": "markdown",
      "metadata": {
        "id": "kDewRWb3s0L-"
      },
      "source": [
        " The MNIST database of handwritten digits, available from this page, has a training set of 60,000 examples, and a test set of 10,000 examples. It is a subset of a larger set available from NIST. The digits have been size-normalized and centered in a fixed-size image. The MNIST data-set is about 12 MB and will be downloaded automatically if it is not located in the given path."
      ]
    },
    {
      "cell_type": "code",
      "metadata": {
        "id": "Wd9z5PCXs0L_",
        "colab": {
          "base_uri": "https://localhost:8080/"
        },
        "outputId": "98df3346-fb95-4b1b-e69f-e41e830668bc"
      },
      "source": [
        "from keras.datasets import mnist\n",
        "\n",
        "(image_train, label_train), (image_test, label_test) = mnist.load_data()\n",
        "\n",
        "print(\"Size of:\")\n",
        "print(\"- Training-set:\\t\\t{}\".format(image_train.shape))\n",
        "print(\"- Test-set:\\t\\t{}\".format(image_test.shape))"
      ],
      "execution_count": 3,
      "outputs": [
        {
          "output_type": "stream",
          "name": "stdout",
          "text": [
            "Downloading data from https://storage.googleapis.com/tensorflow/tf-keras-datasets/mnist.npz\n",
            "11493376/11490434 [==============================] - 3s 0us/step\n",
            "Size of:\n",
            "- Training-set:\t\t(60000, 28, 28)\n",
            "- Test-set:\t\t(10000, 28, 28)\n"
          ]
        }
      ]
    },
    {
      "cell_type": "code",
      "metadata": {
        "id": "DX9dkWEhzuGG"
      },
      "source": [
        "# Your code: \n",
        "# print label_train, print its shape\n",
        "print(label_train.shape)\n",
        "print(label_train)"
      ],
      "execution_count": 7,
      "outputs": [
        {
          "output_type": "stream",
          "name": "stdout",
          "text": [
            "(60000,)\n[5 0 4 ... 5 6 8]\n"
          ]
        }
      ]
    },
    {
      "cell_type": "markdown",
      "metadata": {
        "id": "OmjT6wLWs0L_"
      },
      "source": [
        "The data-set is split into 3 mutually exclusive sub-sets. We will only use the training and test-sets in this tutorial.\n",
        "\n",
        "Define a simple function to have a look at the images."
      ]
    },
    {
      "cell_type": "markdown",
      "metadata": {
        "id": "3v9QakdAs0MA"
      },
      "source": [
        "## Getting to know our data"
      ]
    },
    {
      "cell_type": "markdown",
      "metadata": {
        "id": "4J3w9Otps0MA"
      },
      "source": [
        "The following method is plots 9 images from the dataset in a 3x3 grid."
      ]
    },
    {
      "cell_type": "code",
      "metadata": {
        "id": "cayq2d-hs0MA"
      },
      "source": [
        "import matplotlib.pyplot as plt\n",
        "\n",
        "def plot_images(images, cls_true, cls_pred=None):\n",
        "    assert len(images) == len(cls_true) == 9\n",
        "    \n",
        "    # Create figure with 3x3 sub-plots.\n",
        "    fig, axes = plt.subplots(3, 3)\n",
        "    fig.subplots_adjust(hspace=0.3, wspace=0.3)\n",
        "\n",
        "    for i, ax in enumerate(axes.flat):\n",
        "        # Plot image.\n",
        "        #ax.imshow(images[i].reshape(img_shape), cmap='binary')\n",
        "        ax.imshow(images[i], cmap='binary')\n",
        "\n",
        "        # Show true and predicted classes.\n",
        "        if cls_pred is None:\n",
        "            xlabel = \"True: {0}\".format(cls_true[i])\n",
        "        else:\n",
        "            xlabel = \"True: {0}, Pred: {1}\".format(cls_true[i], cls_pred[i])\n",
        "\n",
        "        ax.set_xlabel(xlabel)\n",
        "        \n",
        "        # Remove ticks from the plot.\n",
        "        ax.set_xticks([])\n",
        "        ax.set_yticks([])\n",
        "        \n",
        "    # Ensure the plot is shown correctly with multiple plots\n",
        "    # in a single Notebook cell.\n",
        "    plt.show()"
      ],
      "execution_count": 8,
      "outputs": []
    },
    {
      "cell_type": "markdown",
      "metadata": {
        "id": "LXNBketEs0MB"
      },
      "source": [
        "Plot a few images to see if data is correct"
      ]
    },
    {
      "cell_type": "code",
      "metadata": {
        "id": "VeRYW7las0MC",
        "colab": {
          "base_uri": "https://localhost:8080/",
          "height": 262
        },
        "outputId": "ad501b45-075f-4c8b-e32c-d2c4d4a1d26a"
      },
      "source": [
        "# We know that MNIST images are 28 pixels in each dimension.\n",
        "img_size = 28\n",
        "\n",
        "# Images are stored in one-dimensional arrays of this length. (might want to use this later for input_size...)\n",
        "img_size_flat = img_size * img_size\n",
        "\n",
        "# Tuple with height and width of images used to reshape arrays.\n",
        "img_shape = (img_size, img_size)\n",
        "\n",
        "# Number of classes, one class for each of 10 digits.\n",
        "num_classes = 10\n",
        "\n",
        "# Get the first images from the test-set.\n",
        "images = image_train[0:9]\n",
        "\n",
        "# Get the true classes for those images.\n",
        "cls_true = label_train[0:9]\n",
        "\n",
        "# Plot the images and labels using our helper-function above.\n",
        "plot_images(images=images, cls_true=cls_true)"
      ],
      "execution_count": 9,
      "outputs": [
        {
          "output_type": "display_data",
          "data": {
            "text/plain": "<Figure size 432x288 with 9 Axes>",
            "image/svg+xml": "<?xml version=\"1.0\" encoding=\"utf-8\" standalone=\"no\"?>\n<!DOCTYPE svg PUBLIC \"-//W3C//DTD SVG 1.1//EN\"\n  \"http://www.w3.org/Graphics/SVG/1.1/DTD/svg11.dtd\">\n<!-- Created with matplotlib (https://matplotlib.org/) -->\n<svg height=\"245.518125pt\" version=\"1.1\" viewBox=\"0 0 320.1 245.518125\" width=\"320.1pt\" xmlns=\"http://www.w3.org/2000/svg\" xmlns:xlink=\"http://www.w3.org/1999/xlink\">\n <metadata>\n  <rdf:RDF xmlns:cc=\"http://creativecommons.org/ns#\" xmlns:dc=\"http://purl.org/dc/elements/1.1/\" xmlns:rdf=\"http://www.w3.org/1999/02/22-rdf-syntax-ns#\">\n   <cc:Work>\n    <dc:type rdf:resource=\"http://purl.org/dc/dcmitype/StillImage\"/>\n    <dc:date>2021-03-03T09:31:06.009616</dc:date>\n    <dc:format>image/svg+xml</dc:format>\n    <dc:creator>\n     <cc:Agent>\n      <dc:title>Matplotlib v3.3.4, https://matplotlib.org/</dc:title>\n     </cc:Agent>\n    </dc:creator>\n   </cc:Work>\n  </rdf:RDF>\n </metadata>\n <defs>\n  <style type=\"text/css\">*{stroke-linecap:butt;stroke-linejoin:round;}</style>\n </defs>\n <g id=\"figure_1\">\n  <g id=\"patch_1\">\n   <path d=\"M 0 245.518125 \nL 320.1 245.518125 \nL 320.1 0 \nL 0 0 \nz\n\" style=\"fill:none;\"/>\n  </g>\n  <g id=\"axes_1\">\n   <g id=\"patch_2\">\n    <path d=\"M 10.7 67.6 \nL 71.1 67.6 \nL 71.1 7.2 \nL 10.7 7.2 \nz\n\" style=\"fill:#ffffff;\"/>\n   </g>\n   <g clip-path=\"url(#pd00731d886)\">\n    <image height=\"61\" id=\"image6437c29082\" transform=\"scale(1 -1)translate(0 -61)\" width=\"61\" x=\"10.7\" xlink:href=\"data:image/png;base64,\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\" y=\"-6.6\"/>\n   </g>\n   <g id=\"matplotlib.axis_1\">\n    <g id=\"text_1\">\n     <!-- True: 5 -->\n     <g transform=\"translate(23.828125 79.198437)scale(0.1 -0.1)\">\n      <defs>\n       <path d=\"M -0.296875 72.90625 \nL 61.375 72.90625 \nL 61.375 64.59375 \nL 35.5 64.59375 \nL 35.5 0 \nL 25.59375 0 \nL 25.59375 64.59375 \nL -0.296875 64.59375 \nz\n\" id=\"DejaVuSans-84\"/>\n       <path d=\"M 41.109375 46.296875 \nQ 39.59375 47.171875 37.8125 47.578125 \nQ 36.03125 48 33.890625 48 \nQ 26.265625 48 22.1875 43.046875 \nQ 18.109375 38.09375 18.109375 28.8125 \nL 18.109375 0 \nL 9.078125 0 \nL 9.078125 54.6875 \nL 18.109375 54.6875 \nL 18.109375 46.1875 \nQ 20.953125 51.171875 25.484375 53.578125 \nQ 30.03125 56 36.53125 56 \nQ 37.453125 56 38.578125 55.875 \nQ 39.703125 55.765625 41.0625 55.515625 \nz\n\" id=\"DejaVuSans-114\"/>\n       <path d=\"M 8.5 21.578125 \nL 8.5 54.6875 \nL 17.484375 54.6875 \nL 17.484375 21.921875 \nQ 17.484375 14.15625 20.5 10.265625 \nQ 23.53125 6.390625 29.59375 6.390625 \nQ 36.859375 6.390625 41.078125 11.03125 \nQ 45.3125 15.671875 45.3125 23.6875 \nL 45.3125 54.6875 \nL 54.296875 54.6875 \nL 54.296875 0 \nL 45.3125 0 \nL 45.3125 8.40625 \nQ 42.046875 3.421875 37.71875 1 \nQ 33.40625 -1.421875 27.6875 -1.421875 \nQ 18.265625 -1.421875 13.375 4.4375 \nQ 8.5 10.296875 8.5 21.578125 \nz\nM 31.109375 56 \nz\n\" id=\"DejaVuSans-117\"/>\n       <path d=\"M 56.203125 29.59375 \nL 56.203125 25.203125 \nL 14.890625 25.203125 \nQ 15.484375 15.921875 20.484375 11.0625 \nQ 25.484375 6.203125 34.421875 6.203125 \nQ 39.59375 6.203125 44.453125 7.46875 \nQ 49.3125 8.734375 54.109375 11.28125 \nL 54.109375 2.78125 \nQ 49.265625 0.734375 44.1875 -0.34375 \nQ 39.109375 -1.421875 33.890625 -1.421875 \nQ 20.796875 -1.421875 13.15625 6.1875 \nQ 5.515625 13.8125 5.515625 26.8125 \nQ 5.515625 40.234375 12.765625 48.109375 \nQ 20.015625 56 32.328125 56 \nQ 43.359375 56 49.78125 48.890625 \nQ 56.203125 41.796875 56.203125 29.59375 \nz\nM 47.21875 32.234375 \nQ 47.125 39.59375 43.09375 43.984375 \nQ 39.0625 48.390625 32.421875 48.390625 \nQ 24.90625 48.390625 20.390625 44.140625 \nQ 15.875 39.890625 15.1875 32.171875 \nz\n\" id=\"DejaVuSans-101\"/>\n       <path d=\"M 11.71875 12.40625 \nL 22.015625 12.40625 \nL 22.015625 0 \nL 11.71875 0 \nz\nM 11.71875 51.703125 \nL 22.015625 51.703125 \nL 22.015625 39.3125 \nL 11.71875 39.3125 \nz\n\" id=\"DejaVuSans-58\"/>\n       <path id=\"DejaVuSans-32\"/>\n       <path d=\"M 10.796875 72.90625 \nL 49.515625 72.90625 \nL 49.515625 64.59375 \nL 19.828125 64.59375 \nL 19.828125 46.734375 \nQ 21.96875 47.46875 24.109375 47.828125 \nQ 26.265625 48.1875 28.421875 48.1875 \nQ 40.625 48.1875 47.75 41.5 \nQ 54.890625 34.8125 54.890625 23.390625 \nQ 54.890625 11.625 47.5625 5.09375 \nQ 40.234375 -1.421875 26.90625 -1.421875 \nQ 22.3125 -1.421875 17.546875 -0.640625 \nQ 12.796875 0.140625 7.71875 1.703125 \nL 7.71875 11.625 \nQ 12.109375 9.234375 16.796875 8.0625 \nQ 21.484375 6.890625 26.703125 6.890625 \nQ 35.15625 6.890625 40.078125 11.328125 \nQ 45.015625 15.765625 45.015625 23.390625 \nQ 45.015625 31 40.078125 35.4375 \nQ 35.15625 39.890625 26.703125 39.890625 \nQ 22.75 39.890625 18.8125 39.015625 \nQ 14.890625 38.140625 10.796875 36.28125 \nz\n\" id=\"DejaVuSans-53\"/>\n      </defs>\n      <use xlink:href=\"#DejaVuSans-84\"/>\n      <use x=\"46.333984\" xlink:href=\"#DejaVuSans-114\"/>\n      <use x=\"87.447266\" xlink:href=\"#DejaVuSans-117\"/>\n      <use x=\"150.826172\" xlink:href=\"#DejaVuSans-101\"/>\n      <use x=\"212.349609\" xlink:href=\"#DejaVuSans-58\"/>\n      <use x=\"246.041016\" xlink:href=\"#DejaVuSans-32\"/>\n      <use x=\"277.828125\" xlink:href=\"#DejaVuSans-53\"/>\n     </g>\n    </g>\n   </g>\n   <g id=\"matplotlib.axis_2\"/>\n   <g id=\"patch_3\">\n    <path d=\"M 10.7 67.6 \nL 10.7 7.2 \n\" style=\"fill:none;stroke:#000000;stroke-linecap:square;stroke-linejoin:miter;stroke-width:0.8;\"/>\n   </g>\n   <g id=\"patch_4\">\n    <path d=\"M 71.1 67.6 \nL 71.1 7.2 \n\" style=\"fill:none;stroke:#000000;stroke-linecap:square;stroke-linejoin:miter;stroke-width:0.8;\"/>\n   </g>\n   <g id=\"patch_5\">\n    <path d=\"M 10.7 67.6 \nL 71.1 67.6 \n\" style=\"fill:none;stroke:#000000;stroke-linecap:square;stroke-linejoin:miter;stroke-width:0.8;\"/>\n   </g>\n   <g id=\"patch_6\">\n    <path d=\"M 10.7 7.2 \nL 71.1 7.2 \n\" style=\"fill:none;stroke:#000000;stroke-linecap:square;stroke-linejoin:miter;stroke-width:0.8;\"/>\n   </g>\n  </g>\n  <g id=\"axes_2\">\n   <g id=\"patch_7\">\n    <path d=\"M 131.6 67.6 \nL 192 67.6 \nL 192 7.2 \nL 131.6 7.2 \nz\n\" style=\"fill:#ffffff;\"/>\n   </g>\n   <g clip-path=\"url(#p1e94f24003)\">\n    <image height=\"61\" id=\"image350199d2eb\" transform=\"scale(1 -1)translate(0 -61)\" width=\"61\" x=\"131.6\" xlink:href=\"data:image/png;base64,\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\" y=\"-6.6\"/>\n   </g>\n   <g id=\"matplotlib.axis_3\">\n    <g id=\"text_2\">\n     <!-- True: 0 -->\n     <g transform=\"translate(144.728125 79.198437)scale(0.1 -0.1)\">\n      <defs>\n       <path d=\"M 31.78125 66.40625 \nQ 24.171875 66.40625 20.328125 58.90625 \nQ 16.5 51.421875 16.5 36.375 \nQ 16.5 21.390625 20.328125 13.890625 \nQ 24.171875 6.390625 31.78125 6.390625 \nQ 39.453125 6.390625 43.28125 13.890625 \nQ 47.125 21.390625 47.125 36.375 \nQ 47.125 51.421875 43.28125 58.90625 \nQ 39.453125 66.40625 31.78125 66.40625 \nz\nM 31.78125 74.21875 \nQ 44.046875 74.21875 50.515625 64.515625 \nQ 56.984375 54.828125 56.984375 36.375 \nQ 56.984375 17.96875 50.515625 8.265625 \nQ 44.046875 -1.421875 31.78125 -1.421875 \nQ 19.53125 -1.421875 13.0625 8.265625 \nQ 6.59375 17.96875 6.59375 36.375 \nQ 6.59375 54.828125 13.0625 64.515625 \nQ 19.53125 74.21875 31.78125 74.21875 \nz\n\" id=\"DejaVuSans-48\"/>\n      </defs>\n      <use xlink:href=\"#DejaVuSans-84\"/>\n      <use x=\"46.333984\" xlink:href=\"#DejaVuSans-114\"/>\n      <use x=\"87.447266\" xlink:href=\"#DejaVuSans-117\"/>\n      <use x=\"150.826172\" xlink:href=\"#DejaVuSans-101\"/>\n      <use x=\"212.349609\" xlink:href=\"#DejaVuSans-58\"/>\n      <use x=\"246.041016\" xlink:href=\"#DejaVuSans-32\"/>\n      <use x=\"277.828125\" xlink:href=\"#DejaVuSans-48\"/>\n     </g>\n    </g>\n   </g>\n   <g id=\"matplotlib.axis_4\"/>\n   <g id=\"patch_8\">\n    <path d=\"M 131.6 67.6 \nL 131.6 7.2 \n\" style=\"fill:none;stroke:#000000;stroke-linecap:square;stroke-linejoin:miter;stroke-width:0.8;\"/>\n   </g>\n   <g id=\"patch_9\">\n    <path d=\"M 192 67.6 \nL 192 7.2 \n\" style=\"fill:none;stroke:#000000;stroke-linecap:square;stroke-linejoin:miter;stroke-width:0.8;\"/>\n   </g>\n   <g id=\"patch_10\">\n    <path d=\"M 131.6 67.6 \nL 192 67.6 \n\" style=\"fill:none;stroke:#000000;stroke-linecap:square;stroke-linejoin:miter;stroke-width:0.8;\"/>\n   </g>\n   <g id=\"patch_11\">\n    <path d=\"M 131.6 7.2 \nL 192 7.2 \n\" style=\"fill:none;stroke:#000000;stroke-linecap:square;stroke-linejoin:miter;stroke-width:0.8;\"/>\n   </g>\n  </g>\n  <g id=\"axes_3\">\n   <g id=\"patch_12\">\n    <path d=\"M 252.5 67.6 \nL 312.9 67.6 \nL 312.9 7.2 \nL 252.5 7.2 \nz\n\" style=\"fill:#ffffff;\"/>\n   </g>\n   <g clip-path=\"url(#p31e5d4d8c8)\">\n    <image height=\"61\" id=\"image72922fdd09\" transform=\"scale(1 -1)translate(0 -61)\" width=\"61\" x=\"252.5\" xlink:href=\"data:image/png;base64,\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\" y=\"-6.6\"/>\n   </g>\n   <g id=\"matplotlib.axis_5\">\n    <g id=\"text_3\">\n     <!-- True: 4 -->\n     <g transform=\"translate(265.628125 79.198437)scale(0.1 -0.1)\">\n      <defs>\n       <path d=\"M 37.796875 64.3125 \nL 12.890625 25.390625 \nL 37.796875 25.390625 \nz\nM 35.203125 72.90625 \nL 47.609375 72.90625 \nL 47.609375 25.390625 \nL 58.015625 25.390625 \nL 58.015625 17.1875 \nL 47.609375 17.1875 \nL 47.609375 0 \nL 37.796875 0 \nL 37.796875 17.1875 \nL 4.890625 17.1875 \nL 4.890625 26.703125 \nz\n\" id=\"DejaVuSans-52\"/>\n      </defs>\n      <use xlink:href=\"#DejaVuSans-84\"/>\n      <use x=\"46.333984\" xlink:href=\"#DejaVuSans-114\"/>\n      <use x=\"87.447266\" xlink:href=\"#DejaVuSans-117\"/>\n      <use x=\"150.826172\" xlink:href=\"#DejaVuSans-101\"/>\n      <use x=\"212.349609\" xlink:href=\"#DejaVuSans-58\"/>\n      <use x=\"246.041016\" xlink:href=\"#DejaVuSans-32\"/>\n      <use x=\"277.828125\" xlink:href=\"#DejaVuSans-52\"/>\n     </g>\n    </g>\n   </g>\n   <g id=\"matplotlib.axis_6\"/>\n   <g id=\"patch_13\">\n    <path d=\"M 252.5 67.6 \nL 252.5 7.2 \n\" style=\"fill:none;stroke:#000000;stroke-linecap:square;stroke-linejoin:miter;stroke-width:0.8;\"/>\n   </g>\n   <g id=\"patch_14\">\n    <path d=\"M 312.9 67.6 \nL 312.9 7.2 \n\" style=\"fill:none;stroke:#000000;stroke-linecap:square;stroke-linejoin:miter;stroke-width:0.8;\"/>\n   </g>\n   <g id=\"patch_15\">\n    <path d=\"M 252.5 67.6 \nL 312.9 67.6 \n\" style=\"fill:none;stroke:#000000;stroke-linecap:square;stroke-linejoin:miter;stroke-width:0.8;\"/>\n   </g>\n   <g id=\"patch_16\">\n    <path d=\"M 252.5 7.2 \nL 312.9 7.2 \n\" style=\"fill:none;stroke:#000000;stroke-linecap:square;stroke-linejoin:miter;stroke-width:0.8;\"/>\n   </g>\n  </g>\n  <g id=\"axes_4\">\n   <g id=\"patch_17\">\n    <path d=\"M 10.7 146.12 \nL 71.1 146.12 \nL 71.1 85.72 \nL 10.7 85.72 \nz\n\" style=\"fill:#ffffff;\"/>\n   </g>\n   <g clip-path=\"url(#pb082f63b54)\">\n    <image height=\"61\" id=\"image2f5ecb7982\" transform=\"scale(1 -1)translate(0 -61)\" width=\"61\" x=\"10.7\" xlink:href=\"data:image/png;base64,\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\" y=\"-85.12\"/>\n   </g>\n   <g id=\"matplotlib.axis_7\">\n    <g id=\"text_4\">\n     <!-- True: 1 -->\n     <g transform=\"translate(23.828125 157.718437)scale(0.1 -0.1)\">\n      <defs>\n       <path d=\"M 12.40625 8.296875 \nL 28.515625 8.296875 \nL 28.515625 63.921875 \nL 10.984375 60.40625 \nL 10.984375 69.390625 \nL 28.421875 72.90625 \nL 38.28125 72.90625 \nL 38.28125 8.296875 \nL 54.390625 8.296875 \nL 54.390625 0 \nL 12.40625 0 \nz\n\" id=\"DejaVuSans-49\"/>\n      </defs>\n      <use xlink:href=\"#DejaVuSans-84\"/>\n      <use x=\"46.333984\" xlink:href=\"#DejaVuSans-114\"/>\n      <use x=\"87.447266\" xlink:href=\"#DejaVuSans-117\"/>\n      <use x=\"150.826172\" xlink:href=\"#DejaVuSans-101\"/>\n      <use x=\"212.349609\" xlink:href=\"#DejaVuSans-58\"/>\n      <use x=\"246.041016\" xlink:href=\"#DejaVuSans-32\"/>\n      <use x=\"277.828125\" xlink:href=\"#DejaVuSans-49\"/>\n     </g>\n    </g>\n   </g>\n   <g id=\"matplotlib.axis_8\"/>\n   <g id=\"patch_18\">\n    <path d=\"M 10.7 146.12 \nL 10.7 85.72 \n\" style=\"fill:none;stroke:#000000;stroke-linecap:square;stroke-linejoin:miter;stroke-width:0.8;\"/>\n   </g>\n   <g id=\"patch_19\">\n    <path d=\"M 71.1 146.12 \nL 71.1 85.72 \n\" style=\"fill:none;stroke:#000000;stroke-linecap:square;stroke-linejoin:miter;stroke-width:0.8;\"/>\n   </g>\n   <g id=\"patch_20\">\n    <path d=\"M 10.7 146.12 \nL 71.1 146.12 \n\" style=\"fill:none;stroke:#000000;stroke-linecap:square;stroke-linejoin:miter;stroke-width:0.8;\"/>\n   </g>\n   <g id=\"patch_21\">\n    <path d=\"M 10.7 85.72 \nL 71.1 85.72 \n\" style=\"fill:none;stroke:#000000;stroke-linecap:square;stroke-linejoin:miter;stroke-width:0.8;\"/>\n   </g>\n  </g>\n  <g id=\"axes_5\">\n   <g id=\"patch_22\">\n    <path d=\"M 131.6 146.12 \nL 192 146.12 \nL 192 85.72 \nL 131.6 85.72 \nz\n\" style=\"fill:#ffffff;\"/>\n   </g>\n   <g clip-path=\"url(#p06b62af13a)\">\n    <image height=\"61\" id=\"imagea479768738\" transform=\"scale(1 -1)translate(0 -61)\" width=\"61\" x=\"131.6\" xlink:href=\"data:image/png;base64,\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\" y=\"-85.12\"/>\n   </g>\n   <g id=\"matplotlib.axis_9\">\n    <g id=\"text_5\">\n     <!-- True: 9 -->\n     <g transform=\"translate(144.728125 157.718437)scale(0.1 -0.1)\">\n      <defs>\n       <path d=\"M 10.984375 1.515625 \nL 10.984375 10.5 \nQ 14.703125 8.734375 18.5 7.8125 \nQ 22.3125 6.890625 25.984375 6.890625 \nQ 35.75 6.890625 40.890625 13.453125 \nQ 46.046875 20.015625 46.78125 33.40625 \nQ 43.953125 29.203125 39.59375 26.953125 \nQ 35.25 24.703125 29.984375 24.703125 \nQ 19.046875 24.703125 12.671875 31.3125 \nQ 6.296875 37.9375 6.296875 49.421875 \nQ 6.296875 60.640625 12.9375 67.421875 \nQ 19.578125 74.21875 30.609375 74.21875 \nQ 43.265625 74.21875 49.921875 64.515625 \nQ 56.59375 54.828125 56.59375 36.375 \nQ 56.59375 19.140625 48.40625 8.859375 \nQ 40.234375 -1.421875 26.421875 -1.421875 \nQ 22.703125 -1.421875 18.890625 -0.6875 \nQ 15.09375 0.046875 10.984375 1.515625 \nz\nM 30.609375 32.421875 \nQ 37.25 32.421875 41.125 36.953125 \nQ 45.015625 41.5 45.015625 49.421875 \nQ 45.015625 57.28125 41.125 61.84375 \nQ 37.25 66.40625 30.609375 66.40625 \nQ 23.96875 66.40625 20.09375 61.84375 \nQ 16.21875 57.28125 16.21875 49.421875 \nQ 16.21875 41.5 20.09375 36.953125 \nQ 23.96875 32.421875 30.609375 32.421875 \nz\n\" id=\"DejaVuSans-57\"/>\n      </defs>\n      <use xlink:href=\"#DejaVuSans-84\"/>\n      <use x=\"46.333984\" xlink:href=\"#DejaVuSans-114\"/>\n      <use x=\"87.447266\" xlink:href=\"#DejaVuSans-117\"/>\n      <use x=\"150.826172\" xlink:href=\"#DejaVuSans-101\"/>\n      <use x=\"212.349609\" xlink:href=\"#DejaVuSans-58\"/>\n      <use x=\"246.041016\" xlink:href=\"#DejaVuSans-32\"/>\n      <use x=\"277.828125\" xlink:href=\"#DejaVuSans-57\"/>\n     </g>\n    </g>\n   </g>\n   <g id=\"matplotlib.axis_10\"/>\n   <g id=\"patch_23\">\n    <path d=\"M 131.6 146.12 \nL 131.6 85.72 \n\" style=\"fill:none;stroke:#000000;stroke-linecap:square;stroke-linejoin:miter;stroke-width:0.8;\"/>\n   </g>\n   <g id=\"patch_24\">\n    <path d=\"M 192 146.12 \nL 192 85.72 \n\" style=\"fill:none;stroke:#000000;stroke-linecap:square;stroke-linejoin:miter;stroke-width:0.8;\"/>\n   </g>\n   <g id=\"patch_25\">\n    <path d=\"M 131.6 146.12 \nL 192 146.12 \n\" style=\"fill:none;stroke:#000000;stroke-linecap:square;stroke-linejoin:miter;stroke-width:0.8;\"/>\n   </g>\n   <g id=\"patch_26\">\n    <path d=\"M 131.6 85.72 \nL 192 85.72 \n\" style=\"fill:none;stroke:#000000;stroke-linecap:square;stroke-linejoin:miter;stroke-width:0.8;\"/>\n   </g>\n  </g>\n  <g id=\"axes_6\">\n   <g id=\"patch_27\">\n    <path d=\"M 252.5 146.12 \nL 312.9 146.12 \nL 312.9 85.72 \nL 252.5 85.72 \nz\n\" style=\"fill:#ffffff;\"/>\n   </g>\n   <g clip-path=\"url(#p4d6507ed1d)\">\n    <image height=\"61\" id=\"image44121285c8\" transform=\"scale(1 -1)translate(0 -61)\" width=\"61\" x=\"252.5\" xlink:href=\"data:image/png;base64,\niVBORw0KGgoAAAANSUhEUgAAAD0AAAA9CAYAAAAeYmHpAAALcklEQVR4nO2aS28T5xrHf3PxjGc8tsexE4wvCiEkJWkRUUuKaKlaVq1Udl30E/QbdVOpX6BiAcuiLorUUtFC1IhL0lBiTGLHdmI7vozH9/FZcGbOgVOOAgnQKvwlb3J9f+/zvO9ze4XRaDTikEl83Qt4HXoDfVj0Bvqw6A30YdEb6MMi+Xl+2HEchsMhlmUxGAzodDoMh0MkSUIURXRdxzAMBEFAkiQABEF4KQvfj/YM7TgOnU6HVqvF7du32d3dJZfL0Ww20XUdTdOYmZlhYWEBRVHQNA1RFJHl59rXV6I9r6jb7VIsFmk0Gjx69IhqtUo+n6der2MYBn6/H5/PRzgcRtM0wuEwPp8Pv9+PLMsoiuJ5hCi+3lO1Z+iNjQ2+/vprtra2yGQytFotut0u/X4fWZYRRRFN0zAMg1gsxuzsLKFQiKmpKUKhECdPniQSiXibIoria3P9PUPbts3a2hqbm5tsbm7Sbre97z0NEIvFGAwGmKbJaDTCNE0ikQiO43jW9vl8+Hy+g6XZo/YMPRgMaDabWJbFcDh8/Mv/tnAoFCIQCOA4DoPBAIDV1VVkWWZtbQ2fz8fVq1fRdZ0PPviA6elp5ufnOXnyJIIgvHKL7xl6NBrR7Xbp9Xq4Jbi7YF3XiUQiDIdDut0utm1TKpUYDofk83kcxwFAURRkWabX63lH4EXd3F3D0+2AvWzinqFN0+Sjjz5iY2OD69evU6lUEAQBWZaZmZnhnXfeIRwOMzY2Rr1eJ5fL0Wg0yGQyWJZFPp+n0+mwsrJCuVym1+vR6/UYHx/n2LFjKIqCrut72oBarcbm5ib1ep1sNkuv13sMI8ssLCyQTCa9iLIv6GAwyJkzZ4jFYiwvL1OpVIDH5zmdTvP+++8zOTnJ7OwstVqNTCZDqVTixx9/ZGdnh0ajQbfbZX19nfv37yPLMj6fj5mZGSKRCIFAAE3T9gTdbDZZW1ujUChw/fp1LMsCHnuS3+9H13XvYt0XdCAQYGZmhkAgwOnTpzFNk62tLZrNJg8ePMDn8/H22297iUk0GkXTNC5cuECj0SCVSlGtVllbW6NYLFKr1bh58yaFQoFyucyRI0c4c+YMhmEwNjaGLMsMBgMcx6HZbGLbNtVqlXK5TC6X49atW1QqFdbX1+l2u49hZJmffvqJfD7P+fPnWVxc3B+0a+lKpcLm5ibr6+tcvXqVcrnM0tISt2/f5sMPP0SSJNLpNIuLi2iaxtmzZxkMBqyvr1OpVLh06RK//fYbxWKRO3fuEAwGmZiYYG5uDk3TiMfjBAIBJEmi3+/T7/fJ5XKUSiVWV1dZXl4mn8+zvLxMt9ul0+l4d4YoihQKBUKhELqu7x/ataDf72dqagpFUchkMjiOQ6PRoNlsUiqVuHv3LtVqFVVVGRsb46233vKSFlEUOXnyJAC3b9+m2WwiSRLNZpNCocDS0hITExMIgkAwGKTRaNBut3nw4AH5fJ7NzU02NjawLItAIODdIZIkeZEkGAzi9/uZmJh4NsvzdkMdx6HdbtNqtbh8+TIrKyv8/PPPLC8voygKPp+PI0eOcOrUKU6cOMFXX31FPB5HVVUEQaBarWJZFt999x2XLl1id3eXQqGAKIoYhkE0GuXzzz8nGo16ae7du3fJZrMMh0P6/T6xWIzp6WkSiQSfffYZpml63uFGg2PHjpFOp/dnaVeiKOL3+xEEgUQigW3bbG5usru7i2VZVCoV6vU6xWIRwzAolUrIsoxpml5O7vP5SKVSzM7OsrGxQaVS8fIAURQ92FKpRLPZpFKp0Gg0CIVCRKNR4vE409PTJJNJUqkUoVDIS3fhsVcGAoFnMjy3pV05jkOtVqPdbnPv3j3W19e5du0aly9fRhAEVFUlmUzy5ZdfkkgkmJ2dxTRNUqkUkUiE7e1tdnZ2uHbtGt9++y31ep1SqcRoNCIQCCDLMv1+/4n84OOPP+bixYskk0kWFhbQdR3TNJFl+X/isyzLXqX3tF64BBJFkXA4jGEYpFIpRqMRf/75J9FolE6ng23bNJtNtra2GA6H6LqObduoqspoNMJxHO/Ccd1yNBoxGAyo1+ve/xAEAUVRCAaDxONxpqamSCQSpNNpL9l5Xu2r7nMrplQqRTQaJRAIMDs7y+rqKleuXKHX6/HDDz+gKArhcBhVVTFNE13XiUajRKNRL4T99y3s/m1d11EUhYWFBaanpzl37hyLi4vouo6qqi9cre0L2nUnwzDQdR3HcbyE4Nq1a9RqNe+8FgoFz+1lWSadTpNMJikUCti2Tb/fx3GcJ9JKSZLw+XzE43FmZ2eZnJxkfHz8/7ruS4d25YYz0zTx+XxomkYkEsGyLAqFApZl8fvvv7Ozs+PV5Nlslu3tbWzbpt1uMxqN/jKPdjfITS/d0LQfHRg0gKZpHvDU1BTtdptcLke5XKbVaiFJEuVyGdu2sW0beLJg+KsUVBRFotEok5OTmKa5Lwu7eim9HLdeBjhy5AjBYJBPP/2UarXKjRs3ePjwoVeGPg3tZmCdTodOp0O9XmdpaQlRFHnvvfc4f/7838PST8t1S1mWvTM+NTVFv98nHo+zurpKv9/3qiPHcTwQy7L49ddfqVarZLNZLMvi1q1b5PN5VFXl3LlzAPsCf6VdO0mSSCQSCILAYDBgOBz+j6V3d3fJZrM4joOiKF7BIYqiF9t1XSccDr9w8+GVQoui6HVMnqViscj9+/cByGQyAJTLZSqVCplMhkwmw8TEBMFg8IXP94FCu+e00+lQq9UQRdHLrhRFQRRFrzh4lhRFIRQKEQ6HPSg3fjuO4332owOF7nQ6NJtNcrkcv/zyC6qqMjc3RzAYZHx8HL/fj2EYqKr6zL+hKAqTk5PA4/j/MnSg0K1Wi0KhQC6XI5vNoqoqqqoSDAaxLMvLlXVd9z5P98HdBEbTtAMJT3+lA4W+e/culy5dolAosLy8zHA49KqqiYkJdF0nlUoxNjbG2bNnOXv2rDcYcCVJEsFgkFAo9NKmIwdu6VKpRLFYpFgsPtGwq1QqaJpGq9VibGyMRCLB9PQ0kUgEwzC84sItMFRV/WdYOh6Ps7i4yMrKCnfu3PG+7jgO9XqdVqtFq9VCVVXK5TI3b95kcXGRL774Al3XPeu6w4L/d/b3owOFDgQCJJNJr3EgiqJ323a7XbrdLq1WC4B2u02hUCAYDNJsNhEEwZt46rrudUJehg4UOhaLcerUKUajESsrK+zs7PDw4UM6nY7X2XTVarUYDAYsLS3xzTffcOLECS5evIimad4E5WXpQKHdmrndbjM/P8/W1hY7Ozt/GV9dy//xxx9UKhXeffddzp07h2ma/yxoSZJQFIVEIsEnn3xCtVolmUxSq9V48OAB9XqdQqFAvV5/wu1rtRrr6+tcuXLFc3Hbttne3gb+Mw5yqzhFUfY1/zpwaEmSmJycJJ1O0+l0OH/+PLu7u3z//fdks1lu3rzpTSTcQX+n08GyLHZ2dryZ9mg0IpfLAU9OLgKBwL4vuJeWe7vlZSgU8nLuWCyG3+/n+PHjbG9vs729Ta/X8zbBtm1EUaTb7Xr9MlEUMU2TaDTK+Pg4wWBwz+OfZ+mlFhw+n4/x8XFisRipVIrhcMj29jaNRoMbN25w48YNyuUyjx498hr+g8HAA3Lfsxw7doz5+Xnm5uY4evQokiT9faHhP3WvJEnegF5RFNLpNLu7u8RiMQzDoNVqEYvF6PV62Lbt3faCIDA5Ocnx48eJxWL7BoZ99L1fVO4F5p5l9/FOv9/Htm0sy+LevXveA4DBYMCFCxc4ffo0hmEQCoX2vYZX/vTHLTAMw8AwDAaDAd1u1xvot1otbNum0Wh40EePHvWsfBB65ZZ+Wm4X1B0A/Pc7Nbez4g4VDuqZxmuHfh06lM8k30AfFr2BPix6A31Y9Ab6sOhfgR2G4hfEF74AAAAASUVORK5CYII=\" y=\"-85.12\"/>\n   </g>\n   <g id=\"matplotlib.axis_11\">\n    <g id=\"text_6\">\n     <!-- True: 2 -->\n     <g transform=\"translate(265.628125 157.718437)scale(0.1 -0.1)\">\n      <defs>\n       <path d=\"M 19.1875 8.296875 \nL 53.609375 8.296875 \nL 53.609375 0 \nL 7.328125 0 \nL 7.328125 8.296875 \nQ 12.9375 14.109375 22.625 23.890625 \nQ 32.328125 33.6875 34.8125 36.53125 \nQ 39.546875 41.84375 41.421875 45.53125 \nQ 43.3125 49.21875 43.3125 52.78125 \nQ 43.3125 58.59375 39.234375 62.25 \nQ 35.15625 65.921875 28.609375 65.921875 \nQ 23.96875 65.921875 18.8125 64.3125 \nQ 13.671875 62.703125 7.8125 59.421875 \nL 7.8125 69.390625 \nQ 13.765625 71.78125 18.9375 73 \nQ 24.125 74.21875 28.421875 74.21875 \nQ 39.75 74.21875 46.484375 68.546875 \nQ 53.21875 62.890625 53.21875 53.421875 \nQ 53.21875 48.921875 51.53125 44.890625 \nQ 49.859375 40.875 45.40625 35.40625 \nQ 44.1875 33.984375 37.640625 27.21875 \nQ 31.109375 20.453125 19.1875 8.296875 \nz\n\" id=\"DejaVuSans-50\"/>\n      </defs>\n      <use xlink:href=\"#DejaVuSans-84\"/>\n      <use x=\"46.333984\" xlink:href=\"#DejaVuSans-114\"/>\n      <use x=\"87.447266\" xlink:href=\"#DejaVuSans-117\"/>\n      <use x=\"150.826172\" xlink:href=\"#DejaVuSans-101\"/>\n      <use x=\"212.349609\" xlink:href=\"#DejaVuSans-58\"/>\n      <use x=\"246.041016\" xlink:href=\"#DejaVuSans-32\"/>\n      <use x=\"277.828125\" xlink:href=\"#DejaVuSans-50\"/>\n     </g>\n    </g>\n   </g>\n   <g id=\"matplotlib.axis_12\"/>\n   <g id=\"patch_28\">\n    <path d=\"M 252.5 146.12 \nL 252.5 85.72 \n\" style=\"fill:none;stroke:#000000;stroke-linecap:square;stroke-linejoin:miter;stroke-width:0.8;\"/>\n   </g>\n   <g id=\"patch_29\">\n    <path d=\"M 312.9 146.12 \nL 312.9 85.72 \n\" style=\"fill:none;stroke:#000000;stroke-linecap:square;stroke-linejoin:miter;stroke-width:0.8;\"/>\n   </g>\n   <g id=\"patch_30\">\n    <path d=\"M 252.5 146.12 \nL 312.9 146.12 \n\" style=\"fill:none;stroke:#000000;stroke-linecap:square;stroke-linejoin:miter;stroke-width:0.8;\"/>\n   </g>\n   <g id=\"patch_31\">\n    <path d=\"M 252.5 85.72 \nL 312.9 85.72 \n\" style=\"fill:none;stroke:#000000;stroke-linecap:square;stroke-linejoin:miter;stroke-width:0.8;\"/>\n   </g>\n  </g>\n  <g id=\"axes_7\">\n   <g id=\"patch_32\">\n    <path d=\"M 10.7 224.64 \nL 71.1 224.64 \nL 71.1 164.24 \nL 10.7 164.24 \nz\n\" style=\"fill:#ffffff;\"/>\n   </g>\n   <g clip-path=\"url(#p4086f7415e)\">\n    <image height=\"61\" id=\"imageae22e8ded1\" transform=\"scale(1 -1)translate(0 -61)\" width=\"61\" x=\"10.7\" xlink:href=\"data:image/png;base64,\niVBORw0KGgoAAAANSUhEUgAAAD0AAAA9CAYAAAAeYmHpAAAEV0lEQVR4nO2bW0sbWxTHfxPnZmImY+ItQ4gU8QIiFFof++36LfpZFAo+6lMfrNDWUGo0anAm18mMzu7DIcFoPXgge8+hyR/yEPYma/322pe110w0IYRgypRJ24E0NIOeFs2gp0Uz6GmRnpbhOI6J45irqyu+fftGFEX0+32EEAghME2Tt2/fsrKygmVZ6PrkXE0Nut/vEwQBR0dHfPr0Cd/3qdfrPDw8AFAoFPj48SMfPnygVCqRz+cnZjs16CiK6Ha7BEHA7e0tQRDQ6XSI4xiATCZDFEUkScKkk8bUoFutFhcXF1xcXFCv1wnDkPv7eyW2U9vIer0ezWaTVqtFFEXKgCHFSJ+fn3N4eMjZ2RlJkii1nRp0u93m8vIS3/dHO7YqpTK9hRC0223q9Tq+74927MftMgchNegwDAmCgH6//6xtKE3T0DRt4vaVTu8kSfj+/TuNRoOzszOazSZRFI31yeVybG5uUi6XqVarFItFbNueqB/KoWu1Gqenp9RqNXzfH7UNI2pZFru7u1SrVTzPo1AoTNwPpdNbCEGv18P3fcIwVGl6TMqhgyDg6uqKbrer0vSYlEPf3t7y8+dPgiD4Yx/TNCmXy1QqFebn56X4oXxNn56ecnBw8GJCMj8/z/7+Pjs7O5RKJSl+KIUWQhBFEWEYPjuKDMMgm81SKBRGn0leJx8rtYxMCDEG7jgOe3t7bGxs8ObNG8rlMoZhSLGtHPqlTEvXdVzXxXVdbNvGNE1pPiiHHkb36fReWFhga2uL9fX1iScjT5UK9J/AdV3HcRzy+Txzc3NSfZjKwuAMelo0ldCpHFlpPxJXHumXgP/qcpGMSsh/VWrQT+FVDoaSNS2EoNPp0Gq1GAwGL4KrkhLofr/P58+fqdVq1Go1FSb/VdKhhRDEcUyj0eDXr1/0er1xB3QdwzBGlwzDMKTPAKnQDw8PdDodbm5uODk54cuXL1xfX4/1qVar7O/vs76+zvv37ykWi9IqJkNJhU6ShMFgQK/XG0X6aW3MdV22t7epVCqUy2Ucx5FWPBhK6u6taRqGYWBZFoVCAdd1sSxrrE8ul6NSqeB5HqVSCcdxpN+ypA6ppmmjNZvNZsnn88+iaNs2KysrLC8v4ziO1OLBUFIjnclkME0T27YpFossLS1JLxC8yi+ZP65pGpZlkcvlWF5eZm1t7e+Hhn928Pv7e8IwJAxD5c+i/ySp0EmSEMcxYRhyd3dHs9lkMBjINPkqSYUeJibDl2qGaWjakh7pbrfL3d0dP3784OvXr7TbbZkmXyUlufewAjo8f4UQ6LrO3NwchmFgGIb0s/mxpELruk6xWATg3bt3WJbF8fEx3W6XhYUFFhcX8TwPz/NwXVcZuPQjyzRNstksq6urVCoVFhcXyeVyuK7L0tLS6Ltt28qumpqK/3DEccz5+TlBENBoNGi1WqNbled5bG5ujtJVFeBKoP9vmsoS8Ax6WjSDnhbNoKdFvwHr7M0XWCnfggAAAABJRU5ErkJggg==\" y=\"-163.64\"/>\n   </g>\n   <g id=\"matplotlib.axis_13\">\n    <g id=\"text_7\">\n     <!-- True: 1 -->\n     <g transform=\"translate(23.828125 236.238437)scale(0.1 -0.1)\">\n      <use xlink:href=\"#DejaVuSans-84\"/>\n      <use x=\"46.333984\" xlink:href=\"#DejaVuSans-114\"/>\n      <use x=\"87.447266\" xlink:href=\"#DejaVuSans-117\"/>\n      <use x=\"150.826172\" xlink:href=\"#DejaVuSans-101\"/>\n      <use x=\"212.349609\" xlink:href=\"#DejaVuSans-58\"/>\n      <use x=\"246.041016\" xlink:href=\"#DejaVuSans-32\"/>\n      <use x=\"277.828125\" xlink:href=\"#DejaVuSans-49\"/>\n     </g>\n    </g>\n   </g>\n   <g id=\"matplotlib.axis_14\"/>\n   <g id=\"patch_33\">\n    <path d=\"M 10.7 224.64 \nL 10.7 164.24 \n\" style=\"fill:none;stroke:#000000;stroke-linecap:square;stroke-linejoin:miter;stroke-width:0.8;\"/>\n   </g>\n   <g id=\"patch_34\">\n    <path d=\"M 71.1 224.64 \nL 71.1 164.24 \n\" style=\"fill:none;stroke:#000000;stroke-linecap:square;stroke-linejoin:miter;stroke-width:0.8;\"/>\n   </g>\n   <g id=\"patch_35\">\n    <path d=\"M 10.7 224.64 \nL 71.1 224.64 \n\" style=\"fill:none;stroke:#000000;stroke-linecap:square;stroke-linejoin:miter;stroke-width:0.8;\"/>\n   </g>\n   <g id=\"patch_36\">\n    <path d=\"M 10.7 164.24 \nL 71.1 164.24 \n\" style=\"fill:none;stroke:#000000;stroke-linecap:square;stroke-linejoin:miter;stroke-width:0.8;\"/>\n   </g>\n  </g>\n  <g id=\"axes_8\">\n   <g id=\"patch_37\">\n    <path d=\"M 131.6 224.64 \nL 192 224.64 \nL 192 164.24 \nL 131.6 164.24 \nz\n\" style=\"fill:#ffffff;\"/>\n   </g>\n   <g clip-path=\"url(#pd688a5e730)\">\n    <image height=\"61\" id=\"image174e8502f4\" transform=\"scale(1 -1)translate(0 -61)\" width=\"61\" x=\"131.6\" xlink:href=\"data:image/png;base64,\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\" y=\"-163.64\"/>\n   </g>\n   <g id=\"matplotlib.axis_15\">\n    <g id=\"text_8\">\n     <!-- True: 3 -->\n     <g transform=\"translate(144.728125 236.238437)scale(0.1 -0.1)\">\n      <defs>\n       <path d=\"M 40.578125 39.3125 \nQ 47.65625 37.796875 51.625 33 \nQ 55.609375 28.21875 55.609375 21.1875 \nQ 55.609375 10.40625 48.1875 4.484375 \nQ 40.765625 -1.421875 27.09375 -1.421875 \nQ 22.515625 -1.421875 17.65625 -0.515625 \nQ 12.796875 0.390625 7.625 2.203125 \nL 7.625 11.71875 \nQ 11.71875 9.328125 16.59375 8.109375 \nQ 21.484375 6.890625 26.8125 6.890625 \nQ 36.078125 6.890625 40.9375 10.546875 \nQ 45.796875 14.203125 45.796875 21.1875 \nQ 45.796875 27.640625 41.28125 31.265625 \nQ 36.765625 34.90625 28.71875 34.90625 \nL 20.21875 34.90625 \nL 20.21875 43.015625 \nL 29.109375 43.015625 \nQ 36.375 43.015625 40.234375 45.921875 \nQ 44.09375 48.828125 44.09375 54.296875 \nQ 44.09375 59.90625 40.109375 62.90625 \nQ 36.140625 65.921875 28.71875 65.921875 \nQ 24.65625 65.921875 20.015625 65.03125 \nQ 15.375 64.15625 9.8125 62.3125 \nL 9.8125 71.09375 \nQ 15.4375 72.65625 20.34375 73.4375 \nQ 25.25 74.21875 29.59375 74.21875 \nQ 40.828125 74.21875 47.359375 69.109375 \nQ 53.90625 64.015625 53.90625 55.328125 \nQ 53.90625 49.265625 50.4375 45.09375 \nQ 46.96875 40.921875 40.578125 39.3125 \nz\n\" id=\"DejaVuSans-51\"/>\n      </defs>\n      <use xlink:href=\"#DejaVuSans-84\"/>\n      <use x=\"46.333984\" xlink:href=\"#DejaVuSans-114\"/>\n      <use x=\"87.447266\" xlink:href=\"#DejaVuSans-117\"/>\n      <use x=\"150.826172\" xlink:href=\"#DejaVuSans-101\"/>\n      <use x=\"212.349609\" xlink:href=\"#DejaVuSans-58\"/>\n      <use x=\"246.041016\" xlink:href=\"#DejaVuSans-32\"/>\n      <use x=\"277.828125\" xlink:href=\"#DejaVuSans-51\"/>\n     </g>\n    </g>\n   </g>\n   <g id=\"matplotlib.axis_16\"/>\n   <g id=\"patch_38\">\n    <path d=\"M 131.6 224.64 \nL 131.6 164.24 \n\" style=\"fill:none;stroke:#000000;stroke-linecap:square;stroke-linejoin:miter;stroke-width:0.8;\"/>\n   </g>\n   <g id=\"patch_39\">\n    <path d=\"M 192 224.64 \nL 192 164.24 \n\" style=\"fill:none;stroke:#000000;stroke-linecap:square;stroke-linejoin:miter;stroke-width:0.8;\"/>\n   </g>\n   <g id=\"patch_40\">\n    <path d=\"M 131.6 224.64 \nL 192 224.64 \n\" style=\"fill:none;stroke:#000000;stroke-linecap:square;stroke-linejoin:miter;stroke-width:0.8;\"/>\n   </g>\n   <g id=\"patch_41\">\n    <path d=\"M 131.6 164.24 \nL 192 164.24 \n\" style=\"fill:none;stroke:#000000;stroke-linecap:square;stroke-linejoin:miter;stroke-width:0.8;\"/>\n   </g>\n  </g>\n  <g id=\"axes_9\">\n   <g id=\"patch_42\">\n    <path d=\"M 252.5 224.64 \nL 312.9 224.64 \nL 312.9 164.24 \nL 252.5 164.24 \nz\n\" style=\"fill:#ffffff;\"/>\n   </g>\n   <g clip-path=\"url(#p4b4be36b3e)\">\n    <image height=\"61\" id=\"image67788aca5c\" transform=\"scale(1 -1)translate(0 -61)\" width=\"61\" x=\"252.5\" xlink:href=\"data:image/png;base64,\niVBORw0KGgoAAAANSUhEUgAAAD0AAAA9CAYAAAAeYmHpAAADxklEQVR4nO2az0rrQBTGv0km7SS1tqH0D6UqCoIgCIKIvoYP6gu4ceHC7kW0LhQqTQuNpjaxSZPO3MUl5dZ7ubvMiOkH3XTzzS/n9Mw5pyFCCIGcSVN9ABVaQ+dFa+i8iKoyfnh4QK/XQxiGCIIA9Xodp6ensCwLlmVB07KLhzLou7s7XF5ewvM8OI6Do6MjbG1toV6vo1gs/jxoIQR838dwOITv+5hMJphOp4jjGJxzZN06KIu067p4enpCFEXwfR9vb28IwxBxHGcOrayQmaYJ27ZhmiY455jP5wjDELPZDJzzTL2VQBNC0Ol0cHZ2ht3dXXDO8fn5CcdxMBqNEMdxpv7KIm0YBizLQrFYBCEEhBBQSmEYBgghmXor+02n0nUdpmmi0Wjg+PgYrVYLlmVl6qkcGgA0TUOhUEC1WkWlUsk80t+iIxNCQAiBJEmQJMnPrd5fxTnHYrHAYrHI3EsZtOu66PV6cBwHYRjCcRxcXV3h+voaHx8fmXorgRZCwPM8PD8/YzgcIooijMdj3NzcoNvtwvf9TP2lFjIhBFzXxXQ6xWAwgOd5CMMQlFKUy2UcHh5ie3sbjLFMzyEVmnOOfr+Pfr+Pl5cXjEYj6LoOSinq9TrOz8/RbrexsbGR6Tmkp7cQAovF4q/BIm1OKKU/78rinC8/KwfRNBiG8TOhkyTBfD5fuZrSNtQwDCltqFTodI4ej8eYzWa/D6BpoJTCNE3UajXYtg1Ksy010iOdroeiKFp+RwhZSe+sJRWac47BYID7+3u4rivTekXS0zsIAry/vy/TO41yljuxr1I+Zdm2jf39fezt7UlJbeAbDByWZaHT6aDRaEDXdSmeyqENw4BpmssNigwph6aUrqyNZEg5tAqtobMU5xxJkiAIAkwmk5XmRLak3BFCCIRhCN/30e/38fj4iCAIZFj/U1Ijnf6TMZvNkCTJ7wNIbD9TSYt0uviLoghBECxnacYYms0mbNuWdk9Le7zpmvfrLK3rOizLAmMsP1dWuVzGzs4OWq1WfjqyQqGASqWCUqmUn0jLXBMtPaW4/EeEEOi6Li21gW8ArULKoWWl9J9StkRId9yMMTDGUCgUpD0AZdCMMZRKJWxubkqv3lKg02JlGAba7TYODg6QJAniOAZjDMViUWr1lgadvhB3cXGBk5MT3N7eotvtolaroVqtSl0iSEvvdKnfbDZBKcVgMMDr6ytqtRoopVK3oUTmm/3piDmfz+F5HiaTCWzbRqfTkVrFpUJ/Fym/p1VoDZ0XraHzojV0XrSGzot+Abp7mhQaXBqfAAAAAElFTkSuQmCC\" y=\"-163.64\"/>\n   </g>\n   <g id=\"matplotlib.axis_17\">\n    <g id=\"text_9\">\n     <!-- True: 1 -->\n     <g transform=\"translate(265.628125 236.238437)scale(0.1 -0.1)\">\n      <use xlink:href=\"#DejaVuSans-84\"/>\n      <use x=\"46.333984\" xlink:href=\"#DejaVuSans-114\"/>\n      <use x=\"87.447266\" xlink:href=\"#DejaVuSans-117\"/>\n      <use x=\"150.826172\" xlink:href=\"#DejaVuSans-101\"/>\n      <use x=\"212.349609\" xlink:href=\"#DejaVuSans-58\"/>\n      <use x=\"246.041016\" xlink:href=\"#DejaVuSans-32\"/>\n      <use x=\"277.828125\" xlink:href=\"#DejaVuSans-49\"/>\n     </g>\n    </g>\n   </g>\n   <g id=\"matplotlib.axis_18\"/>\n   <g id=\"patch_43\">\n    <path d=\"M 252.5 224.64 \nL 252.5 164.24 \n\" style=\"fill:none;stroke:#000000;stroke-linecap:square;stroke-linejoin:miter;stroke-width:0.8;\"/>\n   </g>\n   <g id=\"patch_44\">\n    <path d=\"M 312.9 224.64 \nL 312.9 164.24 \n\" style=\"fill:none;stroke:#000000;stroke-linecap:square;stroke-linejoin:miter;stroke-width:0.8;\"/>\n   </g>\n   <g id=\"patch_45\">\n    <path d=\"M 252.5 224.64 \nL 312.9 224.64 \n\" style=\"fill:none;stroke:#000000;stroke-linecap:square;stroke-linejoin:miter;stroke-width:0.8;\"/>\n   </g>\n   <g id=\"patch_46\">\n    <path d=\"M 252.5 164.24 \nL 312.9 164.24 \n\" style=\"fill:none;stroke:#000000;stroke-linecap:square;stroke-linejoin:miter;stroke-width:0.8;\"/>\n   </g>\n  </g>\n </g>\n <defs>\n  <clipPath id=\"pd00731d886\">\n   <rect height=\"60.4\" width=\"60.4\" x=\"10.7\" y=\"7.2\"/>\n  </clipPath>\n  <clipPath id=\"p1e94f24003\">\n   <rect height=\"60.4\" width=\"60.4\" x=\"131.6\" y=\"7.2\"/>\n  </clipPath>\n  <clipPath id=\"p31e5d4d8c8\">\n   <rect height=\"60.4\" width=\"60.4\" x=\"252.5\" y=\"7.2\"/>\n  </clipPath>\n  <clipPath id=\"pb082f63b54\">\n   <rect height=\"60.4\" width=\"60.4\" x=\"10.7\" y=\"85.72\"/>\n  </clipPath>\n  <clipPath id=\"p06b62af13a\">\n   <rect height=\"60.4\" width=\"60.4\" x=\"131.6\" y=\"85.72\"/>\n  </clipPath>\n  <clipPath id=\"p4d6507ed1d\">\n   <rect height=\"60.4\" width=\"60.4\" x=\"252.5\" y=\"85.72\"/>\n  </clipPath>\n  <clipPath id=\"p4086f7415e\">\n   <rect height=\"60.4\" width=\"60.4\" x=\"10.7\" y=\"164.24\"/>\n  </clipPath>\n  <clipPath id=\"pd688a5e730\">\n   <rect height=\"60.4\" width=\"60.4\" x=\"131.6\" y=\"164.24\"/>\n  </clipPath>\n  <clipPath id=\"p4b4be36b3e\">\n   <rect height=\"60.4\" width=\"60.4\" x=\"252.5\" y=\"164.24\"/>\n  </clipPath>\n </defs>\n</svg>\n",
            "image/png": "[encoded data removed]"
          },
          "metadata": {}
        }
      ]
    },
    {
      "cell_type": "markdown",
      "metadata": {
        "id": "yN4Zjheps0MC"
      },
      "source": [
        "For this first network, we'll flatten everything into a 784-dimensional feature vector."
      ]
    },
    {
      "cell_type": "code",
      "metadata": {
        "colab": {
          "base_uri": "https://localhost:8080/"
        },
        "id": "OHohqH6GbAnS",
        "outputId": "006603cf-eca7-478f-b092-6a900e69ca7b"
      },
      "source": [
        "# In general, you may select between any two indices along each tensor axis. \n",
        "# For instance, in order to select 14 × 14 pixels in the bottom-right corner for image with index 10, you do this:\n",
        "my_slice = image_train[10, 14:, 14:]\n",
        "print(my_slice.shape)\n",
        "my_slice"
      ],
      "execution_count": 11,
      "outputs": [
        {
          "output_type": "stream",
          "name": "stdout",
          "text": [
            "(14, 14)\n"
          ]
        },
        {
          "output_type": "execute_result",
          "data": {
            "text/plain": [
              "array([[254, 254, 254, 254, 171,   0,   0,   0,   0,   0,   0,   0,   0,\n",
              "          0],\n",
              "       [ 89,  93, 240, 254, 171,   0,   0,   0,   0,   0,   0,   0,   0,\n",
              "          0],\n",
              "       [  0,   1, 128, 254, 219,  31,   0,   0,   0,   0,   0,   0,   0,\n",
              "          0],\n",
              "       [  0,   7, 254, 254, 214,  28,   0,   0,   0,   0,   0,   0,   0,\n",
              "          0],\n",
              "       [  0, 138, 254, 254, 116,   0,   0,   0,   0,   0,   0,   0,   0,\n",
              "          0],\n",
              "       [ 25, 240, 254, 254,  34,   0,   0,   0,   0,   0,   0,   0,   0,\n",
              "          0],\n",
              "       [206, 254, 254, 139,   8,   0,   0,   0,   0,   0,   0,   0,   0,\n",
              "          0],\n",
              "       [254, 253, 213,  11,   0,   0,   0,   0,   0,   0,   0,   0,   0,\n",
              "          0],\n",
              "       [254, 236,   0,   0,   0,   0,   0,   0,   0,   0,   0,   0,   0,\n",
              "          0],\n",
              "       [239,  50,   0,   0,   0,   0,   0,   0,   0,   0,   0,   0,   0,\n",
              "          0],\n",
              "       [  0,   0,   0,   0,   0,   0,   0,   0,   0,   0,   0,   0,   0,\n",
              "          0],\n",
              "       [  0,   0,   0,   0,   0,   0,   0,   0,   0,   0,   0,   0,   0,\n",
              "          0],\n",
              "       [  0,   0,   0,   0,   0,   0,   0,   0,   0,   0,   0,   0,   0,\n",
              "          0],\n",
              "       [  0,   0,   0,   0,   0,   0,   0,   0,   0,   0,   0,   0,   0,\n",
              "          0]], dtype=uint8)"
            ]
          },
          "metadata": {},
          "execution_count": 11
        }
      ]
    },
    {
      "cell_type": "markdown",
      "metadata": {
        "id": "PhGG9IsneAcM"
      },
      "source": [
        "The images we get were stored in an array of shape (60000, 28, 28) of type uint8 with values in the [0, 255] interval. We transform it into a float32 array of shape (60000, 28 * 28) with values between 0 and 1."
      ]
    },
    {
      "cell_type": "code",
      "metadata": {
        "id": "wSQnMZ7Js0MD",
        "colab": {
          "base_uri": "https://localhost:8080/"
        },
        "outputId": "3b2558e4-4335-4e47-a970-c5f6fbd9ff5f"
      },
      "source": [
        "# Prepare data, flatten the input and rescale\n",
        "X_train = image_train.reshape((60000, 28*28)) # or #X_train = image_train.reshape(X_train.shape[0], -1)\n",
        "X_train = X_train.astype('float32')/255 \n",
        "X_test = image_test.reshape((10000, 28*28)) # or #X_test = image_test.reshape(X_test.shape[0], -1)\n",
        "X_test = X_test.astype('float32')/255\n",
        "\n",
        "print(\"Size of:\")\n",
        "print(\"- Training-set:\\t\\t{}\".format(X_train.shape))\n",
        "print(\"- Test-set:\\t\\t{}\".format(X_test.shape))"
      ],
      "execution_count": 12,
      "outputs": [
        {
          "output_type": "stream",
          "name": "stdout",
          "text": [
            "Size of:\n- Training-set:\t\t(60000, 784)\n- Test-set:\t\t(10000, 784)\n"
          ]
        }
      ]
    },
    {
      "cell_type": "markdown",
      "metadata": {
        "id": "XaNQwQt9s0MD"
      },
      "source": [
        "#### To build a fully connected feedforward network (aka Multilayer Perceptron (MLP))\n",
        "The first model we'll use is a simple fully connected feedforward network. This is called a Dense layer in Keras. -\n",
        "#### Dimensionality reduction with PCA\n",
        "Since fully connected layers are a bit heavy on image data (and you're probably running this on your laptop), we'll reduce the dimensionality of the data by [PCA (principal component analysis)](https://scikit-learn.org/stable/modules/generated/sklearn.decomposition.PCA.html). PCA decompose a multivariate dataset in a set of successive orthogonal components that explain a maximum amount of the variance. We will discuss topic on dimensionalilty reduction in a few weeks. "
      ]
    },
    {
      "cell_type": "code",
      "metadata": {
        "id": "dyyCAPaUs0MD",
        "colab": {
          "base_uri": "https://localhost:8080/"
        },
        "outputId": "9e23c7e9-5a99-4288-ee00-7c1d0fbe467b"
      },
      "source": [
        "from sklearn.decomposition import PCA\n",
        "\n",
        "pca = PCA(n_components=60) # reduce to 60 dimensions\n",
        "pca.fit(X_train)\n",
        "\n",
        "X_train = pca.transform(X_train)\n",
        "X_test = pca.transform(X_test)\n",
        "\n",
        "print(X_train.shape) \n",
        "print(X_test.shape) # NB: none of this is Keras yet. We're just using sklearn on some numpy arrays"
      ],
      "execution_count": 13,
      "outputs": [
        {
          "output_type": "stream",
          "name": "stdout",
          "text": [
            "(60000, 60)\n(10000, 60)\n"
          ]
        }
      ]
    },
    {
      "cell_type": "markdown",
      "metadata": {
        "id": "qTAMootds0ME"
      },
      "source": [
        "The training labels are encoded as integers. We need these as one-hot vectors instead, so we can match them to the ten outputs of the neural network."
      ]
    },
    {
      "cell_type": "code",
      "metadata": {
        "id": "Q_nB-FCns0ME",
        "colab": {
          "base_uri": "https://localhost:8080/"
        },
        "outputId": "6062a1a7-ecc2-4702-bbfb-9d50c70fa211"
      },
      "source": [
        "from keras.utils import to_categorical\n",
        "\n",
        "print(label_train.shape, label_test.shape)\n",
        "\n",
        "y_train = to_categorical(label_train)\n",
        "y_test = to_categorical(label_test)\n",
        "\n",
        "print(y_train.shape, y_test.shape)"
      ],
      "execution_count": 14,
      "outputs": [
        {
          "output_type": "stream",
          "name": "stdout",
          "text": [
            "(60000,) (10000,)\n(60000, 10) (10000, 10)\n"
          ]
        }
      ]
    },
    {
      "cell_type": "markdown",
      "metadata": {
        "id": "tMyFcP_OxUrd"
      },
      "source": [
        "### Question: \n",
        "Look at the one-hot coding given by y_train[0], which digit does it represent?"
      ]
    },
    {
      "cell_type": "code",
      "metadata": {
        "id": "scpTWCx6s0ME",
        "colab": {
          "base_uri": "https://localhost:8080/"
        },
        "outputId": "01eb59c1-555b-48b4-e284-ac92eb92a308"
      },
      "source": [
        "print(y_train[0]) # print the one-hot vector for the first example"
      ],
      "execution_count": 20,
      "outputs": [
        {
          "output_type": "stream",
          "text": [
            "[0. 0. 0. 0. 0. 1. 0. 0. 0. 0.]\n"
          ],
          "name": "stdout"
        }
      ]
    },
    {
      "cell_type": "markdown",
      "metadata": {
        "id": "SjTdngnUs0ME"
      },
      "source": [
        "We are now ready to create a model. \n",
        "\n",
        "## Keras Model\n",
        "\n",
        "The core data structure of Keras is a model, a way to organize layers. The simplest type of model is the ```Sequential``` model, a linear stack of **layers**. Before we start take some time to read the ```Sequential``` documentation:\n",
        "\n",
        "https://keras.io/getting-started/sequential-model-guide/\n",
        "\n",
        "Note: Keras has two APIs for this: the **Sequential** API and the **Model** API. The sequential API (the simplest) assumes that your model is a simple sequence of operations, usually neural network layers. The input is passed through the first layer, the result of that is passed through the second and so on. \n",
        "\n",
        "This is useful for simple NN models where you are only interested in the input and output. If your model gets more complex, you may want to use the Model API (we'll use in the next practicals)."
      ]
    },
    {
      "cell_type": "code",
      "metadata": {
        "id": "sGh7bopps0MF",
        "colab": {
          "base_uri": "https://localhost:8080/"
        },
        "outputId": "4cc72aa0-0071-431d-9d25-f62316c34895"
      },
      "source": [
        "from keras.models import Sequential\n",
        "from keras.layers import Dense, Activation\n",
        "from keras.optimizers import SGD, Adam\n",
        "\n",
        "model = Sequential()\n",
        "model.add(Dense(32, input_shape=(60,))) # first dense layer,32 hidden units \n",
        "model.add(Activation('relu'))            # activation layer\n",
        "model.add(Dense(10))                     # second dense layer\n",
        "model.add(Activation('softmax'))         # output class probabilities\n",
        "\n",
        "model.summary()\n"
      ],
      "execution_count": 25,
      "outputs": [
        {
          "output_type": "stream",
          "text": [
            "Model: \"sequential_2\"\n",
            "_________________________________________________________________\n",
            "Layer (type)                 Output Shape              Param #   \n",
            "=================================================================\n",
            "dense_4 (Dense)              (None, 32)                1952      \n",
            "_________________________________________________________________\n",
            "activation_4 (Activation)    (None, 32)                0         \n",
            "_________________________________________________________________\n",
            "dense_5 (Dense)              (None, 10)                330       \n",
            "_________________________________________________________________\n",
            "activation_5 (Activation)    (None, 10)                0         \n",
            "=================================================================\n",
            "Total params: 2,282\n",
            "Trainable params: 2,282\n",
            "Non-trainable params: 0\n",
            "_________________________________________________________________\n"
          ],
          "name": "stdout"
        }
      ]
    },
    {
      "cell_type": "code",
      "metadata": {
        "id": "hEl2wlGss0MF"
      },
      "source": [
        "optimizer = SGD(lr=0.001) # lr is the learning rate\n",
        "#optimizer = Adam(lr=0.001) # \n",
        "model.compile(optimizer=optimizer, loss='categorical_crossentropy', metrics=['accuracy'])"
      ],
      "execution_count": 26,
      "outputs": []
    },
    {
      "cell_type": "markdown",
      "metadata": {
        "id": "R5_pmbSms0MG"
      },
      "source": [
        "We've also told the compiler that we'd like it to compute accuracy for us during training (since categorical cross-entropy is a bit hard to interpret).\n",
        "\n",
        "We're now ready to start training:"
      ]
    },
    {
      "cell_type": "code",
      "metadata": {
        "id": "KCLOxVQ4s0MH",
        "colab": {
          "base_uri": "https://localhost:8080/"
        },
        "outputId": "dc15b29d-92ac-40e5-9511-4b498e3cca51"
      },
      "source": [
        "# Train the model, iterating on the data in batches of 32 samples\n",
        "model.fit(X_train, y_train, epochs=5, batch_size=1000);"
      ],
      "execution_count": 34,
      "outputs": [
        {
          "output_type": "stream",
          "text": [
            "Epoch 1/5\n",
            "60/60 [==============================] - 0s 2ms/step - loss: 0.4274 - accuracy: 0.8786\n",
            "Epoch 2/5\n",
            "60/60 [==============================] - 0s 2ms/step - loss: 0.4224 - accuracy: 0.8799\n",
            "Epoch 3/5\n",
            "60/60 [==============================] - 0s 2ms/step - loss: 0.4176 - accuracy: 0.8810\n",
            "Epoch 4/5\n",
            "60/60 [==============================] - 0s 2ms/step - loss: 0.4131 - accuracy: 0.8824\n",
            "Epoch 5/5\n",
            "60/60 [==============================] - 0s 2ms/step - loss: 0.4088 - accuracy: 0.8834\n"
          ],
          "name": "stdout"
        }
      ]
    },
    {
      "cell_type": "code",
      "metadata": {
        "id": "kDYFI90as0MH",
        "colab": {
          "base_uri": "https://localhost:8080/"
        },
        "outputId": "303df0fa-38c5-4701-c6c8-c830e3b8ddb2"
      },
      "source": [
        "# evaluate the keras model \n",
        "_, accuracy = model.evaluate(X_test, y_test)\n",
        "print('Accuracy: %.2f' % (accuracy*100))"
      ],
      "execution_count": null,
      "outputs": [
        {
          "output_type": "stream",
          "text": [
            "313/313 [==============================] - 0s 943us/step - loss: 0.8063 - accuracy: 0.9092\n",
            "Accuracy: 90.92\n"
          ],
          "name": "stdout"
        }
      ]
    },
    {
      "cell_type": "code",
      "metadata": {
        "id": "VwaE0ysss0MH",
        "colab": {
          "base_uri": "https://localhost:8080/"
        },
        "outputId": "a86e2996-5077-4250-db15-769044969227"
      },
      "source": [
        "# Or better to making predictions and get the confusion matrix\n",
        "# model.predict will generate probability for all 10 digits, \n",
        "#    so we use argmax to pick the class with the highest probability\n",
        "from sklearn import metrics\n",
        "y_pred = model.predict(X_test)\n",
        "print(y_pred[0]) # print the prediction for first image\n",
        "\n",
        "print('\\nConfusion matrix: ')\n",
        "matrix = metrics.confusion_matrix(y_test.argmax(axis=1), y_pred.argmax(axis=1))\n",
        "print(matrix)\n",
        "\n",
        "print('\\nClassification report: ')\n",
        "print(metrics. classification_report(y_test.argmax(axis=1), y_pred.argmax(axis=1)))"
      ],
      "execution_count": 41,
      "outputs": [
        {
          "output_type": "stream",
          "text": [
            "[2.3422082e-04 2.1926875e-05 1.1312426e-04 8.0677168e-04 5.6013309e-06\n",
            " 2.8109044e-04 5.7413610e-07 9.9572146e-01 4.2973628e-05 2.7722742e-03]\n",
            "\n",
            "Confusion matrix: \n",
            "[[ 930    0    4    6    0   26   10    1    3    0]\n",
            " [   0 1091    3    5    0    4    6    1   25    0]\n",
            " [  12   12  886   20   15    5   17   17   42    6]\n",
            " [   3    4   20  902    1   21    3   26   27    3]\n",
            " [   0   11    5    1  877    1   16    1    6   64]\n",
            " [  14    7    7   37   15  742   19   14   26   11]\n",
            " [  22    4    6    1   10   22  888    1    4    0]\n",
            " [   5   20   36    4   10    0    1  909    5   38]\n",
            " [  11   19   16   20   16   40   11   18  799   24]\n",
            " [   9    9    9    9   59   18    2   32   11  851]]\n",
            "\n",
            "Classification report: \n",
            "              precision    recall  f1-score   support\n",
            "\n",
            "           0       0.92      0.95      0.94       980\n",
            "           1       0.93      0.96      0.94      1135\n",
            "           2       0.89      0.86      0.88      1032\n",
            "           3       0.90      0.89      0.90      1010\n",
            "           4       0.87      0.89      0.88       982\n",
            "           5       0.84      0.83      0.84       892\n",
            "           6       0.91      0.93      0.92       958\n",
            "           7       0.89      0.88      0.89      1028\n",
            "           8       0.84      0.82      0.83       974\n",
            "           9       0.85      0.84      0.85      1009\n",
            "\n",
            "    accuracy                           0.89     10000\n",
            "   macro avg       0.89      0.89      0.89     10000\n",
            "weighted avg       0.89      0.89      0.89     10000\n",
            "\n"
          ],
          "name": "stdout"
        }
      ]
    },
    {
      "cell_type": "markdown",
      "metadata": {
        "id": "rBdSC5gDs0MI"
      },
      "source": [
        "### Tasks\n",
        "\n",
        "As you now have a model to play with (in no particular order):\n",
        "\n",
        "1. Change the `learning-rate` for the optimiser.\n",
        "2. Change the ```batch_size``` to e.g. 1 or 1000 (and see how learning rate deals with larger/smaller batch sizes).\n",
        "3. Change the optimiser: from SGD to Adam\n",
        "4. Add complexity to the model, being mindful of how \"powerful\" your computers are.\n",
        "\n",
        "7. Try and find a sweet-spot between the size and performance of the model, take into account things like the number of iterations/epochs required to train the model in these assumptions.\n",
        "\n",
        "6. Do you get the exact same results if you run the Notebook multiple times without changing any parameters? Why or why not?\n",
        "\n",
        "5. Do you think these changes will have the same effect (if any) on other classifiers?\n",
        "\n",
        "8. Investigate **effect of dimensionality reduction** (with PCA, e.g. you may try to build the model without PCA and compare ...)\n",
        "\n",
        "9. Try out some **other ML classifiers** that have been discussed in the class, e.g. kNN (with scikit-learn) "
      ]
    },
    {
      "cell_type": "code",
      "metadata": {
        "collapsed": true,
        "id": "La9Ah0Qms0MI"
      },
      "source": [
        "# Your code\n",
        "#\n",
        "#\n",
        "\n"
      ],
      "execution_count": null,
      "outputs": []
    }
  ]
}