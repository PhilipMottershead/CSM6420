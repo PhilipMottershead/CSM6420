{
  "nbformat": 4,
  "nbformat_minor": 0,
  "metadata": {
    "kernelspec": {
      "display_name": "Python 3",
      "language": "python",
      "name": "python3"
    },
    "language_info": {
      "codemirror_mode": {
        "name": "ipython",
        "version": 3
      },
      "file_extension": ".py",
      "mimetype": "text/x-python",
      "name": "python",
      "nbconvert_exporter": "python",
      "pygments_lexer": "ipython3",
      "version": "3.6.8"
    },
    "colab": {
      "name": "EM-for-gmm.ipynb",
      "provenance": [],
      "collapsed_sections": []
    }
  },
  "cells": [
    {
      "cell_type": "markdown",
      "metadata": {
        "id": "Tzm2nmbUTyQS"
      },
      "source": [
        "# Fitting Gaussian Mixture Models with EM\n",
        "\n",
        "In this tutorial, which was adapted from coursera machine learning course by university of washington, you will\n",
        "* implement the EM algorithm for a Gaussian mixture model\n",
        "* apply your implementation to cluster images\n",
        "* explore clustering results and interpret the output of the EM algorithm  "
      ]
    },
    {
      "cell_type": "markdown",
      "metadata": {
        "id": "8r9vkc8VTyQd"
      },
      "source": [
        "## Import necessary packages"
      ]
    },
    {
      "cell_type": "code",
      "metadata": {
        "collapsed": true,
        "scrolled": true,
        "id": "sNrLjgruTyQe"
      },
      "source": [
        "import numpy as np\n",
        "import matplotlib.pyplot as plt \n",
        "import copy\n",
        "from scipy.stats import multivariate_normal\n",
        "\n",
        "%matplotlib inline"
      ],
      "execution_count": 2,
      "outputs": []
    },
    {
      "cell_type": "markdown",
      "metadata": {
        "id": "3FXznqvFTyQf"
      },
      "source": [
        "## Implementing the EM algorithm for Gaussian mixture models"
      ]
    },
    {
      "cell_type": "markdown",
      "metadata": {
        "id": "EPKiQxVtTyQf"
      },
      "source": [
        "In this section, you will implement the EM algorithm. We will take the following steps:\n",
        "\n",
        "- Create some synthetic data.\n",
        "- Provide a log likelihood function for this model.\n",
        "- Implement the EM algorithm.\n",
        "- Visualize the progress of the parameters during the course of running EM.\n",
        "- Visualize the convergence of the model."
      ]
    },
    {
      "cell_type": "markdown",
      "metadata": {
        "id": "BjboWpS5TyQg"
      },
      "source": [
        "### Dataset\n",
        "\n",
        "To help us develop and test our implementation, we will generate some observations from a mixture of Gaussians and then run our EM algorithm to discover the mixture components. We'll begin with a function to generate the data, and a quick plot to visualize its output for a 2-dimensional mixture of three Gaussians.\n",
        "\n",
        "Now we will create a function to generate data from a mixture of Gaussians model. "
      ]
    },
    {
      "cell_type": "code",
      "metadata": {
        "collapsed": true,
        "id": "qWgyV518TyQg"
      },
      "source": [
        "def generate_MoG_data(num_data, means, covariances, weights):\n",
        "    \"\"\" Creates a list of data points \"\"\"\n",
        "    num_clusters = len(weights)\n",
        "    data = []\n",
        "    for i in range(num_data):\n",
        "        #  Use np.random.choice and weights to pick a cluster id \n",
        "        #  greater than or equal to 0 and less than num_clusters.\n",
        "        k = np.random.choice(len(weights), 1, p=weights)[0]\n",
        "\n",
        "        # Use np.random.multivariate_normal to create data from this cluster\n",
        "        x = np.random.multivariate_normal(means[k], covariances[k])\n",
        "\n",
        "        data.append(x)\n",
        "    return data"
      ],
      "execution_count": 3,
      "outputs": []
    },
    {
      "cell_type": "markdown",
      "metadata": {
        "id": "10NuoSSGTyQg"
      },
      "source": [
        "After specifying a particular set of clusters (so that the results are reproducible across assignments), we use the above function to generate a dataset."
      ]
    },
    {
      "cell_type": "code",
      "metadata": {
        "collapsed": true,
        "id": "RnlPyOtSTyQh"
      },
      "source": [
        "# Model parameters\n",
        "init_means = [\n",
        "    [5, 0], # mean of cluster 1\n",
        "    [1, 1], # mean of cluster 2\n",
        "    [0, 5]  # mean of cluster 3\n",
        "]\n",
        "init_covariances = [\n",
        "    [[.5, 0.], [0, .5]], # covariance of cluster 1\n",
        "    [[.92, .38], [.38, .91]], # covariance of cluster 2\n",
        "    [[.5, 0.], [0, .5]]  # covariance of cluster 3\n",
        "]\n",
        "init_weights = [1/4., 1/2., 1/4.]  # weights of each cluster\n",
        "\n",
        "# Generate data\n",
        "np.random.seed(4)\n",
        "data = generate_MoG_data(100, init_means, init_covariances, init_weights)"
      ],
      "execution_count": 4,
      "outputs": []
    },
    {
      "cell_type": "markdown",
      "metadata": {
        "id": "HgYKPNXrTyQh"
      },
      "source": [
        "Now plot the data you created above. The plot should be a scatterplot with 100 points that appear to roughly fall into three clusters."
      ]
    },
    {
      "cell_type": "code",
      "metadata": {
        "id": "YpW5eFwLTyQi",
        "colab": {
          "base_uri": "https://localhost:8080/",
          "height": 284
        },
        "outputId": "b9b27001-d35f-4032-8fa6-931ce2ae8563"
      },
      "source": [
        "plt.figure()\n",
        "d = np.vstack(data)\n",
        "plt.plot(d[:,0], d[:,1],'ko')\n",
        "plt.rcParams.update({'font.size':16})\n",
        "plt.tight_layout()"
      ],
      "execution_count": 5,
      "outputs": [
        {
          "output_type": "display_data",
          "data": {
            "image/png": "[encoded data removed]",
            "text/plain": [
              "<Figure size 432x288 with 1 Axes>"
            ]
          },
          "metadata": {
            "tags": [],
            "needs_background": "light"
          }
        }
      ]
    },
    {
      "cell_type": "markdown",
      "metadata": {
        "id": "OpglMmHpTyQk"
      },
      "source": [
        "### Log likelihood \n",
        "We provide a function to calculate log likelihood for mixture of Gaussians. The log likelihood quantifies the probability of observing a given set of data under a particular setting of the parameters in our model. We will use this to assess convergence of our EM algorithm; specifically, we will keep looping through EM update steps until the log likehood ceases to increase at a certain rate."
      ]
    },
    {
      "cell_type": "code",
      "metadata": {
        "collapsed": true,
        "id": "Bwn3F0PpTyQk"
      },
      "source": [
        "def log_sum_exp(Z):\n",
        "    \"\"\" Compute log(\\sum_i exp(Z_i)) for some array Z.\"\"\"\n",
        "    return np.max(Z) + np.log(np.sum(np.exp(Z - np.max(Z))))\n",
        "\n",
        "def loglikelihood(data, weights, means, covs):\n",
        "    \"\"\" Compute the loglikelihood of the data for a Gaussian mixture model with the given parameters. \"\"\"\n",
        "    num_clusters = len(means)\n",
        "    num_dim = len(data[0])\n",
        "    \n",
        "    ll = 0\n",
        "    for d in data:\n",
        "        \n",
        "        Z = np.zeros(num_clusters)\n",
        "        for k in range(num_clusters):\n",
        "            \n",
        "            # Compute (x-mu)^T * Sigma^{-1} * (x-mu)\n",
        "            delta = np.array(d) - means[k]\n",
        "            exponent_term = np.dot(delta.T, np.dot(np.linalg.inv(covs[k]), delta))\n",
        "            \n",
        "            # Compute loglikelihood contribution for this data point and this cluster\n",
        "            Z[k] += np.log(weights[k])\n",
        "            Z[k] -= 1/2. * (num_dim * np.log(2*np.pi) + np.log(np.linalg.det(covs[k])) + exponent_term)\n",
        "            \n",
        "        # Increment loglikelihood contribution of this data point across all clusters\n",
        "        ll += log_sum_exp(Z)\n",
        "        \n",
        "    return ll"
      ],
      "execution_count": 11,
      "outputs": []
    },
    {
      "cell_type": "markdown",
      "metadata": {
        "id": "61ledXXBWxZ2"
      },
      "source": [
        "### E-step: assign cluster responsibilities, given current parameters\n",
        "\n",
        "The first step in the EM algorithm is to compute cluster responsibilities. Let $r_{ik}$ denote the responsibility of cluster $k$ for data point $i$. Note that cluster responsibilities are fractional parts: Cluster responsibilities for a single data point $i$ should sum to 1.\n",
        "$$\n",
        "r_{i1} + r_{i2} + \\ldots + r_{iK} = 1\n",
        "$$\n",
        "\n",
        "To figure how much a cluster is responsible for a given data point, we compute the likelihood of the data point under the  particular cluster assignment, multiplied by the weight of the cluster. For data point $i$ and cluster $k$, this quantity is\n",
        "$$\n",
        "r_{ik} \\propto \\pi_k N(x_i | \\mu_k, \\Sigma_k)\n",
        "$$\n",
        "where $N(x_i | \\mu_k, \\Sigma_k)$ is the Gaussian distribution for cluster $k$ (with mean $\\mu_k$ and covariance $\\Sigma_k$).\n",
        "\n",
        "We used $\\propto$ because the quantity $N(x_i | \\mu_k, \\Sigma_k)$ is not yet the responsibility we want. To ensure that all responsibilities over each data point add up to 1, we add the normalization constant in the denominator:\n",
        "$$\n",
        "r_{ik} = \\frac{\\pi_k N(x_i | \\mu_k, \\Sigma_k)}{\\sum_{k=1}^{K} \\pi_k N(x_i | \\mu_k, \\Sigma_k)}.\n",
        "$$\n",
        "\n",
        "Complete the following function that computes $r_{ik}$ for all data points $i$ and clusters $k$."
      ]
    },
    {
      "cell_type": "markdown",
      "metadata": {
        "id": "_0ujAXKRpYL8"
      },
      "source": [
        "Drawing from a Gaussian distribution. SciPy provides a convenient function [multivariate_normal.pdf](https://docs.scipy.org/doc/scipy/reference/generated/scipy.stats.multivariate_normal.html) that computes the likelihood of seeing a data point in a multivariate Gaussian distribution. The usage is\n",
        "\n",
        "multivariate_normal.pdf([data point], mean=[mean vector], cov=[covariance matrix])"
      ]
    },
    {
      "cell_type": "code",
      "metadata": {
        "id": "3rTiN_4Cj3Jf"
      },
      "source": [
        "def compute_responsibilities(data, weights, means, covariances):\n",
        "    '''E-step: compute responsibilities, given the current parameters'''\n",
        "    num_data = len(data)\n",
        "    num_clusters = len(means)\n",
        "    resp = np.zeros((num_data, num_clusters))\n",
        "    \n",
        "    # Update resp matrix so that resp[i,k] is the responsibility of cluster k for data point i.\n",
        "    # Hint: To compute likelihood of seeing data point i given cluster k, use multivariate_normal.pdf.\n",
        "    for i in range(num_data):\n",
        "        for k in range(num_clusters):\n",
        "            # YOUR CODE HERE\n",
        "            resp[i, k] = ...\n",
        "\n",
        "    # Add up responsibilities over each data point and normalize\n",
        "    row_sums = resp.sum(axis=1)[:, np.newaxis]\n",
        "    resp = resp / row_sums\n",
        "\n",
        "    return resp"
      ],
      "execution_count": 15,
      "outputs": []
    },
    {
      "cell_type": "markdown",
      "metadata": {
        "id": "OuqYV15Vkh_w"
      },
      "source": [
        "#### Check point"
      ]
    },
    {
      "cell_type": "code",
      "metadata": {
        "id": "191jtn6fkZ2d"
      },
      "source": [
        "resp = compute_responsibilities(data=np.array([[1.,2.],[-1.,-2.]]), weights=np.array([0.3, 0.7]),\n",
        "                                means=[np.array([0.,0.]), np.array([1.,1.])],\n",
        "                                covariances=[np.array([[1.5, 0.],[0.,2.5]]), np.array([[1.,1.],[1.,2.]])])\n",
        "\n",
        "if resp.shape==(2,2) and np.allclose(resp, np.array([[0.10512733, 0.89487267], [0.46468164, 0.53531836]])):\n",
        "    print('Checkpoint passed!')\n",
        "else:\n",
        "    print('Check your code again.')"
      ],
      "execution_count": null,
      "outputs": []
    },
    {
      "cell_type": "markdown",
      "metadata": {
        "id": "4cnU_c82W6UF"
      },
      "source": [
        "### M-step: Update parameters, given current cluster responsibilities\n",
        "Once the cluster responsibilities are computed, we update the parameters (weights, means, and covariances) associated with the clusters.\n",
        "\n",
        "**Computing soft counts**. Before updating the parameters, we first compute what is known as \"soft counts\". The soft count of a cluster is the sum of all cluster responsibilities for that cluster:\n",
        "$$\n",
        "N^{\\text{soft}}_k = r_{1k} + r_{2k} + \\ldots + r_{Nk} = \\sum_{i=1}^{N} r_{ik}\n",
        "$$\n",
        "\n",
        "where we loop over data points. Note that, unlike k-means, we must loop over every single data point in the dataset. This is because all clusters are represented in all data points, to a varying degree.\n",
        "\n",
        "We provide the function for computing the soft counts:"
      ]
    },
    {
      "cell_type": "code",
      "metadata": {
        "id": "z4ZPET8ggaMw"
      },
      "source": [
        "def compute_soft_counts(resp):\n",
        "    # Compute the total responsibility assigned to each cluster, which will be useful when \n",
        "    # implementing M-steps below. In the lectures this is called N^{soft}\n",
        "    counts = np.sum(resp, axis=0)\n",
        "    return counts"
      ],
      "execution_count": 19,
      "outputs": []
    },
    {
      "cell_type": "markdown",
      "metadata": {
        "id": "2KnYWYdMXS9O"
      },
      "source": [
        "**Updating weights.** The cluster weights show us how much each cluster is represented over all data points. The weight of cluster $k$ is given by the ratio of the soft count $N^{\\text{soft}}_{k}$ to the total number of data points $N$:\n",
        "$$\n",
        "\\hat{\\pi}_k = \\frac{N^{\\text{soft}}_{k}}{N}\n",
        "$$\n",
        "Notice that $N$ is equal to the sum over the soft counts $N^{\\text{soft}}_{k}$ of all clusters.\n",
        "\n",
        "Complete the following function:"
      ]
    },
    {
      "cell_type": "code",
      "metadata": {
        "id": "f4lPCyKLg3cL"
      },
      "source": [
        "def compute_weights(counts):\n",
        "    num_clusters = len(counts)\n",
        "    weights = [0.] * num_clusters\n",
        "    \n",
        "    for k in range(num_clusters):\n",
        "        # Update the weight for cluster k using the M-step update rule for the cluster weight, \\hat{\\pi}_k.\n",
        "        # HINT: compute # of data points by summing soft counts.\n",
        "        # YOUR CODE HERE\n",
        "        weights[k] = ...\n",
        "\n",
        "    return weights"
      ],
      "execution_count": 18,
      "outputs": []
    },
    {
      "cell_type": "markdown",
      "metadata": {
        "id": "KjRel0YXk12L"
      },
      "source": [
        "#### Check point"
      ]
    },
    {
      "cell_type": "code",
      "metadata": {
        "colab": {
          "base_uri": "https://localhost:8080/"
        },
        "id": "9zGeZ2sYk2RE",
        "outputId": "17ed73f9-99e0-450c-e893-e142c1e950b1"
      },
      "source": [
        "resp = compute_responsibilities(data=np.array([[1.,2.],[-1.,-2.],[0,0]]), weights=np.array([0.3, 0.7]),\n",
        "                                means=[np.array([0.,0.]), np.array([1.,1.])],\n",
        "                                covariances=[np.array([[1.5, 0.],[0.,2.5]]), np.array([[1.,1.],[1.,2.]])])\n",
        "counts = compute_soft_counts(resp)\n",
        "weights = compute_weights(counts)\n",
        "\n",
        "print(counts)\n",
        "print(weights)\n",
        "\n",
        "if np.allclose(weights, [0.27904865942515705, 0.720951340574843]):\n",
        "    print('Checkpoint passed!')\n",
        "else:\n",
        "    print('Check your code again.')"
      ],
      "execution_count": 20,
      "outputs": [
        {
          "output_type": "stream",
          "text": [
            "[0.83714598 2.16285402]\n",
            "[array([0.27904866, 0.72095134]), array([0.27904866, 0.72095134])]\n",
            "Checkpoint passed!\n"
          ],
          "name": "stdout"
        }
      ]
    },
    {
      "cell_type": "markdown",
      "metadata": {
        "id": "m-uWzpBMbCIL"
      },
      "source": [
        "**Updating means**. The mean of each cluster is set to the [weighted average](https://en.wikipedia.org/wiki/Weighted_arithmetic_mean) of all data points, weighted by the cluster responsibilities:\n",
        "$$\n",
        "\\hat{\\mu}_k = \\frac{1}{N_k^{\\text{soft}}} \\sum_{i=1}^N r_{ik}x_i\n",
        "$$\n",
        "\n",
        "Complete the following function:"
      ]
    },
    {
      "cell_type": "code",
      "metadata": {
        "id": "-uHT42Byg6xq"
      },
      "source": [
        "def compute_means(data, resp, counts):\n",
        "    num_clusters = len(counts)\n",
        "    num_data = len(data)\n",
        "    means = [np.zeros(len(data[0]))] * num_clusters\n",
        "    \n",
        "    for k in range(num_clusters):\n",
        "        # Update means for cluster k using the M-step update rule for the mean variables.\n",
        "        # This will assign the variable means[k] to be our estimate for \\hat{\\mu}_k.\n",
        "        weighted_sum = 0.\n",
        "        for i in range(num_data):\n",
        "            # YOUR CODE HERE\n",
        "            weighted_sum += ...\n",
        "        # YOUR CODE HERE\n",
        "        means[k] = ...\n",
        "\n",
        "    return means"
      ],
      "execution_count": 30,
      "outputs": []
    },
    {
      "cell_type": "markdown",
      "metadata": {
        "id": "EyZ6d38plDEV"
      },
      "source": [
        "#### CHeck point"
      ]
    },
    {
      "cell_type": "code",
      "metadata": {
        "colab": {
          "base_uri": "https://localhost:8080/"
        },
        "id": "JZERaDoplFEH",
        "outputId": "6003467c-a774-4021-c08d-bbc0ae1bb44e"
      },
      "source": [
        "data_tmp = np.array([[1.,2.],[-1.,-2.]])\n",
        "resp = compute_responsibilities(data=data_tmp, weights=np.array([0.3, 0.7]),\n",
        "                                means=[np.array([0.,0.]), np.array([1.,1.])],\n",
        "                                covariances=[np.array([[1.5, 0.],[0.,2.5]]), np.array([[1.,1.],[1.,2.]])])\n",
        "counts = compute_soft_counts(resp)\n",
        "means = compute_means(data_tmp, resp, counts)\n",
        "\n",
        "if np.allclose(means, np.array([[-0.6310085, -1.262017], [0.25140299, 0.50280599]])):\n",
        "    print('Checkpoint passed!')\n",
        "else:\n",
        "    print('Check your code again.')"
      ],
      "execution_count": 31,
      "outputs": [
        {
          "output_type": "stream",
          "text": [
            "Checkpoint passed!\n"
          ],
          "name": "stdout"
        }
      ]
    },
    {
      "cell_type": "markdown",
      "metadata": {
        "id": "dRs0VnZohL1w"
      },
      "source": [
        "**Updating covariances**.  The covariance of each cluster is set to the weighted average of all [outer products](https://people.duke.edu/~ccc14/sta-663/LinearAlgebraReview.html), weighted by the cluster responsibilities:\n",
        "$$\n",
        "\\hat{\\Sigma}_k = \\frac{1}{N^{\\text{soft}}_k}\\sum_{i=1}^N r_{ik} (x_i - \\hat{\\mu}_k)(x_i - \\hat{\\mu}_k)^T\n",
        "$$\n",
        "\n",
        "The \"outer product\" in this context refers to the matrix product\n",
        "$$\n",
        "(x_i - \\hat{\\mu}_k)(x_i - \\hat{\\mu}_k)^T.\n",
        "$$\n",
        "Letting $(x_i - \\hat{\\mu}_k)$ to be $d \\times 1$ column vector, this product is a $d \\times d$ matrix. Taking the weighted average of all outer products gives us the covariance matrix, which is also $d \\times d$.\n",
        "\n",
        "Complete the following function:"
      ]
    },
    {
      "cell_type": "code",
      "metadata": {
        "id": "m7CzmP2Bi2xv"
      },
      "source": [
        "def compute_covariances(data, resp, counts, means):\n",
        "    num_clusters = len(counts)\n",
        "    num_dim = len(data[0])\n",
        "    num_data = len(data)\n",
        "    covariances = [np.zeros((num_dim,num_dim))] * num_clusters\n",
        "    \n",
        "    for k in range(num_clusters):\n",
        "        # Update covariances for cluster k using the M-step update rule for covariance variables.\n",
        "        # This will assign the variable covariances[k] to be the estimate for \\hat{\\Sigma}_k.\n",
        "        weighted_sum = np.zeros((num_dim, num_dim))\n",
        "        for i in range(num_data):\n",
        "            # YOUR CODE HERE (Hint: Use np.outer on the data[i] and this cluster's mean)\n",
        "            weighted_sum += ...\n",
        "        # YOUR CODE HERE\n",
        "        covariances[k] = ...\n",
        "\n",
        "    return covariances"
      ],
      "execution_count": 32,
      "outputs": []
    },
    {
      "cell_type": "markdown",
      "metadata": {
        "id": "xztRBKKslcp2"
      },
      "source": [
        "#### Check point"
      ]
    },
    {
      "cell_type": "code",
      "metadata": {
        "colab": {
          "base_uri": "https://localhost:8080/"
        },
        "id": "lsm04BQBlbXT",
        "outputId": "fea16b23-28e8-4ea5-a60f-46af531f0cd6"
      },
      "source": [
        "data_tmp = np.array([[1.,2.],[-1.,-2.]])\n",
        "resp = compute_responsibilities(data=data_tmp, weights=np.array([0.3, 0.7]),\n",
        "                                means=[np.array([0.,0.]), np.array([1.,1.])],\n",
        "                                covariances=[np.array([[1.5, 0.],[0.,2.5]]), np.array([[1.,1.],[1.,2.]])])\n",
        "counts = compute_soft_counts(resp)\n",
        "means = compute_means(data_tmp, resp, counts)\n",
        "covariances = compute_covariances(data_tmp, resp, counts, means)\n",
        "\n",
        "if np.allclose(covariances[0], np.array([[0.60182827, 1.20365655], [1.20365655, 2.4073131]])) and \\\n",
        "    np.allclose(covariances[1], np.array([[ 0.93679654, 1.87359307], [1.87359307, 3.74718614]])):\n",
        "    print('Checkpoint passed!')\n",
        "else:\n",
        "    print('Check your code again.')"
      ],
      "execution_count": 33,
      "outputs": [
        {
          "output_type": "stream",
          "text": [
            "Checkpoint passed!\n"
          ],
          "name": "stdout"
        }
      ]
    },
    {
      "cell_type": "markdown",
      "metadata": {
        "id": "AGCq_bzKTyQl"
      },
      "source": [
        "### Implementation\n",
        "\n",
        "You will now complete an implementation that can run EM on the data you just created. It uses the `loglikelihood` function we provided above.\n",
        "\n",
        "Fill in the places where you find ## YOUR CODE HERE. There are seven places in this function for you to fill in.\n"
      ]
    },
    {
      "cell_type": "markdown",
      "metadata": {
        "id": "6slcNKiemdrF"
      },
      "source": [
        "## The EM algorithm\n",
        "We are almost done. Let us write a function that takes initial parameter estimates and runs EM. You should complete each line that says # YOUR CODE HERE."
      ]
    },
    {
      "cell_type": "code",
      "metadata": {
        "collapsed": true,
        "id": "_UuZ4dPhTyQl"
      },
      "source": [
        "def EM(data, init_means, init_covariances, init_weights, maxiter=1000, thresh=1e-4):\n",
        "    \n",
        "    # Make copies of initial parameters, which we will update during each iteration\n",
        "    means = init_means[:]\n",
        "    covariances = init_covariances[:]\n",
        "    weights = init_weights[:]\n",
        "    \n",
        "    # Infer dimensions of dataset and the number of clusters\n",
        "    num_data = len(data)\n",
        "    num_dim = len(data[0])\n",
        "    num_clusters = len(means)\n",
        "    \n",
        "    # Initialize some useful variables\n",
        "    resp = np.zeros((num_data, num_clusters))\n",
        "    ll = loglikelihood(data, weights, means, covariances)\n",
        "    ll_trace = [ll]\n",
        "    \n",
        "    for i in range(maxiter):\n",
        "        if i % 5 == 0:\n",
        "            print(\"Iteration %s\" % i)\n",
        "        \n",
        "        # E-step: compute responsibilities\n",
        "        # Update resp matrix so that resp[j, k] is the responsibility of cluster k for data point j.\n",
        "        # Hint: To compute likelihood of seeing data point j given cluster k, use multivariate_normal.pdf.\n",
        "        for j in range(num_data):\n",
        "            for k in range(num_clusters):\n",
        "                # YOUR CODE HERE\n",
        "                resp[j, k] = ...\n",
        "        row_sums = resp.sum(axis=1)[:, np.newaxis]\n",
        "        resp = resp / row_sums # normalize over all possible cluster assignments\n",
        "\n",
        "        # M-step\n",
        "        # Compute the total responsibility assigned to each cluster, which will be useful when \n",
        "        # implementing M-steps below. In the lectures this is called N^{soft}\n",
        "        counts = np.sum(resp, axis=0)\n",
        "        \n",
        "        for k in range(num_clusters):\n",
        "            \n",
        "            # Update the weight for cluster k using the M-step update rule for the cluster weight, \\hat{\\pi}_k.\n",
        "            # YOUR CODE HERE\n",
        "            weights[k] = ...\n",
        "            \n",
        "            # Update means for cluster k using the M-step update rule for the mean variables.\n",
        "            # This will assign the variable means[k] to be our estimate for \\hat{\\mu}_k.\n",
        "            weighted_sum = 0\n",
        "            for j in range(num_data):\n",
        "                # YOUR CODE HERE\n",
        "                weighted_sum += ...\n",
        "            # YOUR CODE HERE\n",
        "            means[k] = ...\n",
        "            \n",
        "            # Update covariances for cluster k using the M-step update rule for covariance variables.\n",
        "            # This will assign the variable covariances[k] to be the estimate for \\hat{\\Sigma}_k.\n",
        "            weighted_sum = np.zeros((num_dim, num_dim))\n",
        "            for j in range(num_data):\n",
        "                # YOUR CODE HERE (Hint: Use np.outer on the data[j] and this cluster's mean)\n",
        "                weighted_sum += ...\n",
        "            # YOUR CODE HERE\n",
        "            covariances[k] = ...\n",
        "          \n",
        "        \n",
        "        # Compute the loglikelihood at this iteration\n",
        "        # YOUR CODE HERE\n",
        "        ll_latest = ...\n",
        "        ll_trace.append(ll_latest)\n",
        "        \n",
        "        # Check for convergence in log-likelihood and store\n",
        "        if (ll_latest - ll) < thresh and ll_latest > -np.inf:\n",
        "            break\n",
        "        ll = ll_latest\n",
        "    \n",
        "    if i % 5 != 0:\n",
        "        print(\"Iteration %s\" % i)\n",
        "    \n",
        "    out = {'weights': weights, 'means': means, 'covs': covariances, 'loglik': ll_trace, 'resp': resp}\n",
        "\n",
        "    return out"
      ],
      "execution_count": null,
      "outputs": []
    },
    {
      "cell_type": "markdown",
      "metadata": {
        "id": "nlPCJ8y_TyQp"
      },
      "source": [
        "### Testing the implementation on the simulated data"
      ]
    },
    {
      "cell_type": "markdown",
      "metadata": {
        "id": "j4gvdFUATyQs"
      },
      "source": [
        "Now we'll fit a mixture of Gaussians to this data using our implementation of the EM algorithm. As with k-means, it is important to ask how we obtain an initial configuration of mixing weights and component parameters. In this simple case, we'll take three random points to be the initial cluster means, use the empirical covariance of the data to be the initial covariance in each cluster (a clear overestimate), and set the initial mixing weights to be uniform across clusters."
      ]
    },
    {
      "cell_type": "code",
      "metadata": {
        "collapsed": true,
        "id": "NLz5cHvbTyQs"
      },
      "source": [
        "np.random.seed(4)\n",
        "\n",
        "# Initialization of parameters\n",
        "chosen = np.random.choice(len(data), 3, replace=False)\n",
        "initial_means = [data[x] for x in chosen]\n",
        "initial_covs = [np.cov(data, rowvar=0)] * 3\n",
        "initial_weights = [1/3.] * 3\n",
        "\n",
        "# Run EM \n",
        "results = EM(data, initial_means, initial_covs, initial_weights)"
      ],
      "execution_count": null,
      "outputs": []
    },
    {
      "cell_type": "markdown",
      "metadata": {
        "id": "mOCa8v6TTyQt"
      },
      "source": [
        "**Note**. Like k-means, EM is prone to converging to a local optimum. In practice, you may want to run EM multiple times with different random initialization. We have omitted multiple restarts to keep the assignment reasonably short. For the purpose of this assignment, we assign a particular random seed (`seed=4`) to ensure consistent results among the students.\n",
        "\n",
        "**Checkpoint**. For this particular example, the EM algorithm is expected to terminate in 23 iterations. That is, the last line of the log should say \"Iteration 22\". If your function stopped too early or too late, you should re-visit your code."
      ]
    },
    {
      "cell_type": "markdown",
      "metadata": {
        "id": "z4vkqGq-TyQw"
      },
      "source": [
        "Our algorithm returns a dictionary with five elements: \n",
        "* 'loglik': a record of the log likelihood at each iteration\n",
        "* 'resp': the final responsibility matrix\n",
        "* 'means': a list of K means\n",
        "* 'covs': a list of K covariance matrices\n",
        "* 'weights': the weights corresponding to each model component"
      ]
    },
    {
      "cell_type": "markdown",
      "metadata": {
        "id": "WvN88XhaTyQw"
      },
      "source": [
        "**Quiz Question**: What is the weight that EM assigns to the first component after running the above codeblock?"
      ]
    },
    {
      "cell_type": "code",
      "metadata": {
        "collapsed": true,
        "id": "N8dUN13fTyQw"
      },
      "source": [
        "# Your code here"
      ],
      "execution_count": null,
      "outputs": []
    },
    {
      "cell_type": "markdown",
      "metadata": {
        "id": "MZk9C2qDTyQx"
      },
      "source": [
        "**Quiz Question**: Using the same set of results, obtain the mean that EM assigns the second component. What is the mean in the first dimension?"
      ]
    },
    {
      "cell_type": "code",
      "metadata": {
        "collapsed": true,
        "id": "8KjV1Sb0TyQx"
      },
      "source": [
        "# Your code here"
      ],
      "execution_count": null,
      "outputs": []
    },
    {
      "cell_type": "markdown",
      "metadata": {
        "id": "e_vIT5PSTyQx"
      },
      "source": [
        "**Quiz Question**: Using the same set of results, obtain the covariance that EM assigns the third component. What is the variance in the first dimension?"
      ]
    },
    {
      "cell_type": "code",
      "metadata": {
        "collapsed": true,
        "id": "JOuFytlWTyQx"
      },
      "source": [
        "# Your code here"
      ],
      "execution_count": null,
      "outputs": []
    },
    {
      "cell_type": "markdown",
      "metadata": {
        "id": "g-uxvL3DTyQy"
      },
      "source": [
        "### Plot progress of parameters"
      ]
    },
    {
      "cell_type": "markdown",
      "metadata": {
        "id": "EmWyCvbtTyQy"
      },
      "source": [
        "One useful feature of testing our implementation on low-dimensional simulated data is that we can easily visualize the results. \n",
        "\n",
        "We will use the following `plot_contours` function to visualize the Gaussian components over the data at three different points in the algorithm's execution:\n",
        "\n",
        "1. At initialization (using initial_mu, initial_cov, and initial_weights)\n",
        "2. After running the algorithm to completion \n",
        "3. After just 12 iterations (using parameters estimates returned when setting `maxiter=12`)"
      ]
    },
    {
      "cell_type": "code",
      "metadata": {
        "collapsed": true,
        "id": "frBvrVzpTyQy"
      },
      "source": [
        "import matplotlib.mlab as mlab\n",
        "def plot_contours(data, means, covs, title):\n",
        "    plt.figure()\n",
        "    plt.plot([x[0] for x in data], [y[1] for y in data],'ko') # data\n",
        "\n",
        "    delta = 0.025\n",
        "    k = len(means)\n",
        "    x = np.arange(-2.0, 7.0, delta)\n",
        "    y = np.arange(-2.0, 7.0, delta)\n",
        "    X, Y = np.meshgrid(x, y)\n",
        "    col = ['green', 'red', 'indigo']\n",
        "    for i in range(k):\n",
        "        mean = means[i]\n",
        "        cov = covs[i]\n",
        "        sigmax = np.sqrt(cov[0][0])\n",
        "        sigmay = np.sqrt(cov[1][1])\n",
        "        sigmaxy = cov[0][1]/(sigmax*sigmay)\n",
        "        Z = mlab.bivariate_normal(X, Y, sigmax, sigmay, mean[0], mean[1], sigmaxy)\n",
        "        plt.contour(X, Y, Z, colors = col[i])\n",
        "        plt.title(title)\n",
        "    plt.rcParams.update({'font.size':16})\n",
        "    plt.tight_layout()"
      ],
      "execution_count": null,
      "outputs": []
    },
    {
      "cell_type": "code",
      "metadata": {
        "collapsed": true,
        "id": "AESzOcGTTyQy"
      },
      "source": [
        "# Parameters after initialization\n",
        "plot_contours(data, initial_means, initial_covs, 'Initial clusters')"
      ],
      "execution_count": null,
      "outputs": []
    },
    {
      "cell_type": "code",
      "metadata": {
        "collapsed": true,
        "id": "mATtZDSKTyQz"
      },
      "source": [
        "# Parameters after running EM to convergence\n",
        "results = EM(data, initial_means, initial_covs, initial_weights)\n",
        "plot_contours(data, results['means'], results['covs'], 'Final clusters')"
      ],
      "execution_count": null,
      "outputs": []
    },
    {
      "cell_type": "markdown",
      "metadata": {
        "id": "wSxVa-FKTyQz"
      },
      "source": [
        "Fill in the following code block to visualize the set of parameters we get after running EM for 12 iterations."
      ]
    },
    {
      "cell_type": "code",
      "metadata": {
        "collapsed": true,
        "id": "lVBBeiy2TyQz"
      },
      "source": [
        "# YOUR CODE HERE\n",
        "results = ...\n",
        "\n",
        "plot_contours(data, results['means'], results['covs'], 'Clusters after 12 iterations')"
      ],
      "execution_count": null,
      "outputs": []
    },
    {
      "cell_type": "markdown",
      "metadata": {
        "id": "Pi48ez8fTyQz"
      },
      "source": [
        "**Quiz Question**: Plot the loglikelihood that is observed at each iteration. Is the loglikelihood plot monotonically increasing, monotonically decreasing, or neither [multiple choice]? "
      ]
    },
    {
      "cell_type": "code",
      "metadata": {
        "collapsed": true,
        "id": "zjMYBVycTyQz"
      },
      "source": [
        "results = EM(data, initial_means, initial_covs, initial_weights)\n",
        "\n",
        "# YOUR CODE HERE\n",
        "loglikelihoods = ..."
      ],
      "execution_count": null,
      "outputs": []
    },
    {
      "cell_type": "code",
      "metadata": {
        "collapsed": true,
        "id": "6kdhszHRTyQ0"
      },
      "source": [
        "plt.plot(range(len(loglikelihoods)), loglikelihoods, linewidth=4)\n",
        "plt.xlabel('Iteration')\n",
        "plt.ylabel('Log-likelihood')\n",
        "plt.rcParams.update({'font.size':16})\n",
        "plt.tight_layout()"
      ],
      "execution_count": null,
      "outputs": []
    },
    {
      "cell_type": "code",
      "metadata": {
        "collapsed": true,
        "id": "jhjOswzWTyQ0"
      },
      "source": [
        "\n",
        "\n",
        "\n",
        "\n",
        "\n",
        "\n",
        "\n",
        "\n",
        "\n",
        "\n",
        "\n",
        "\n",
        "\n",
        "\n",
        "\n",
        "\n",
        "\n",
        "\n",
        "\n",
        "\n",
        "\n",
        "\n",
        "\n",
        "\n",
        "\n",
        "\n"
      ],
      "execution_count": null,
      "outputs": []
    },
    {
      "cell_type": "markdown",
      "metadata": {
        "id": "odkeexBG1Zsq"
      },
      "source": [
        "#### Solutions: [EM_for_gmm_sol.ipynb](https://colab.research.google.com/drive/1W_Ais-YYwAZPNv3JKy2nCW7nSQQmAAbI?usp=sharing)"
      ]
    }
  ]
}